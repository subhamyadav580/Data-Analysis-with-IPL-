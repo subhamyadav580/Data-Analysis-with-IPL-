{
  "nbformat": 4,
  "nbformat_minor": 0,
  "metadata": {
    "colab": {
      "name": "IPL.ipynb",
      "provenance": [],
      "collapsed_sections": [],
      "mount_file_id": "1ftghNxbN0AYwTAvk_hDgysOLGFiLXwRx",
      "authorship_tag": "ABX9TyNYOlE9D6WQFY6+IzjdLdEi",
      "include_colab_link": true
    },
    "kernelspec": {
      "name": "python3",
      "display_name": "Python 3"
    }
  },
  "cells": [
    {
      "cell_type": "markdown",
      "metadata": {
        "id": "view-in-github",
        "colab_type": "text"
      },
      "source": [
        "<a href=\"https://colab.research.google.com/github/subhamyadav580/Data-Analysis-with-IPL-Dataset/blob/main/IPL.ipynb\" target=\"_parent\"><img src=\"https://colab.research.google.com/assets/colab-badge.svg\" alt=\"Open In Colab\"/></a>"
      ]
    },
    {
      "cell_type": "code",
      "metadata": {
        "colab": {
          "base_uri": "https://localhost:8080/"
        },
        "id": "wIGozpOy0Ubc",
        "outputId": "8e985112-615a-493b-fce6-73e443dfd279"
      },
      "source": [
        "from google.colab import drive\n",
        "drive.mount('/content/drive/')"
      ],
      "execution_count": 3,
      "outputs": [
        {
          "output_type": "stream",
          "text": [
            "Drive already mounted at /content/drive/; to attempt to forcibly remount, call drive.mount(\"/content/drive/\", force_remount=True).\n"
          ],
          "name": "stdout"
        }
      ]
    },
    {
      "cell_type": "code",
      "metadata": {
        "colab": {
          "base_uri": "https://localhost:8080/"
        },
        "id": "7Sh3az1M928p",
        "outputId": "0ea94761-10ff-49fe-989b-520e86cf7036"
      },
      "source": [
        "!ls"
      ],
      "execution_count": 4,
      "outputs": [
        {
          "output_type": "stream",
          "text": [
            "drive  sample_data\n"
          ],
          "name": "stdout"
        }
      ]
    },
    {
      "cell_type": "code",
      "metadata": {
        "colab": {
          "base_uri": "https://localhost:8080/"
        },
        "id": "lh6Eqg0S0dCe",
        "outputId": "3869f862-5260-49b7-8d52-e71f83513023"
      },
      "source": [
        "%cd /content/drive/My Drive/kaggle/fastai/courses/ml1/"
      ],
      "execution_count": 5,
      "outputs": [
        {
          "output_type": "stream",
          "text": [
            "/content/drive/My Drive/kaggle/fastai/courses/ml1\n"
          ],
          "name": "stdout"
        }
      ]
    },
    {
      "cell_type": "code",
      "metadata": {
        "id": "rNYLMDJg3fTx"
      },
      "source": [
        "import matplotlib.pyplot as plt\n",
        "import collections\n",
        "import seaborn as sns\n",
        "import numpy as np\n",
        "import pandas as pd\n",
        "import plotly\n",
        "import plotly.express as px\n",
        "import plotly.graph_objs as go\n",
        "from plotly.offline import init_notebook_mode, plot, iplot\n",
        "from plotly import tools\n",
        "from warnings import filterwarnings\n",
        "filterwarnings('ignore')"
      ],
      "execution_count": 6,
      "outputs": []
    },
    {
      "cell_type": "code",
      "metadata": {
        "id": "hp8Vk1X-4kTj"
      },
      "source": [
        "PATH = 'data/IPL/'"
      ],
      "execution_count": 7,
      "outputs": []
    },
    {
      "cell_type": "code",
      "metadata": {
        "colab": {
          "base_uri": "https://localhost:8080/"
        },
        "id": "f5JcXuqI5wXY",
        "outputId": "aa4af185-4856-4392-f088-8ff3748188c8"
      },
      "source": [
        "!ls {PATH}"
      ],
      "execution_count": 8,
      "outputs": [
        {
          "output_type": "stream",
          "text": [
            "'IPL Ball-by-Ball 2008-2020.csv'  'IPL Matches 2008-2020.csv'\n"
          ],
          "name": "stdout"
        }
      ]
    },
    {
      "cell_type": "code",
      "metadata": {
        "id": "l2WxHvQg49eS"
      },
      "source": [
        "bobData = pd.read_csv(f'{PATH}IPL Ball-by-Ball 2008-2020.csv', low_memory=False)\n",
        "matchData = pd.read_csv(f'{PATH}IPL Matches 2008-2020.csv', low_memory=False)"
      ],
      "execution_count": 9,
      "outputs": []
    },
    {
      "cell_type": "code",
      "metadata": {
        "colab": {
          "base_uri": "https://localhost:8080/",
          "height": 394
        },
        "id": "I7Cz0gd96g8a",
        "outputId": "843a11db-90f0-4c95-b738-1634c7d0aab4"
      },
      "source": [
        "bobData.head()"
      ],
      "execution_count": 10,
      "outputs": [
        {
          "output_type": "execute_result",
          "data": {
            "text/html": [
              "<div>\n",
              "<style scoped>\n",
              "    .dataframe tbody tr th:only-of-type {\n",
              "        vertical-align: middle;\n",
              "    }\n",
              "\n",
              "    .dataframe tbody tr th {\n",
              "        vertical-align: top;\n",
              "    }\n",
              "\n",
              "    .dataframe thead th {\n",
              "        text-align: right;\n",
              "    }\n",
              "</style>\n",
              "<table border=\"1\" class=\"dataframe\">\n",
              "  <thead>\n",
              "    <tr style=\"text-align: right;\">\n",
              "      <th></th>\n",
              "      <th>id</th>\n",
              "      <th>inning</th>\n",
              "      <th>over</th>\n",
              "      <th>ball</th>\n",
              "      <th>batsman</th>\n",
              "      <th>non_striker</th>\n",
              "      <th>bowler</th>\n",
              "      <th>batsman_runs</th>\n",
              "      <th>extra_runs</th>\n",
              "      <th>total_runs</th>\n",
              "      <th>non_boundary</th>\n",
              "      <th>is_wicket</th>\n",
              "      <th>dismissal_kind</th>\n",
              "      <th>player_dismissed</th>\n",
              "      <th>fielder</th>\n",
              "      <th>extras_type</th>\n",
              "      <th>batting_team</th>\n",
              "      <th>bowling_team</th>\n",
              "    </tr>\n",
              "  </thead>\n",
              "  <tbody>\n",
              "    <tr>\n",
              "      <th>0</th>\n",
              "      <td>335982</td>\n",
              "      <td>1</td>\n",
              "      <td>6</td>\n",
              "      <td>5</td>\n",
              "      <td>RT Ponting</td>\n",
              "      <td>BB McCullum</td>\n",
              "      <td>AA Noffke</td>\n",
              "      <td>1</td>\n",
              "      <td>0</td>\n",
              "      <td>1</td>\n",
              "      <td>0</td>\n",
              "      <td>0</td>\n",
              "      <td>NaN</td>\n",
              "      <td>NaN</td>\n",
              "      <td>NaN</td>\n",
              "      <td>NaN</td>\n",
              "      <td>Kolkata Knight Riders</td>\n",
              "      <td>Royal Challengers Bangalore</td>\n",
              "    </tr>\n",
              "    <tr>\n",
              "      <th>1</th>\n",
              "      <td>335982</td>\n",
              "      <td>1</td>\n",
              "      <td>6</td>\n",
              "      <td>6</td>\n",
              "      <td>BB McCullum</td>\n",
              "      <td>RT Ponting</td>\n",
              "      <td>AA Noffke</td>\n",
              "      <td>1</td>\n",
              "      <td>0</td>\n",
              "      <td>1</td>\n",
              "      <td>0</td>\n",
              "      <td>0</td>\n",
              "      <td>NaN</td>\n",
              "      <td>NaN</td>\n",
              "      <td>NaN</td>\n",
              "      <td>NaN</td>\n",
              "      <td>Kolkata Knight Riders</td>\n",
              "      <td>Royal Challengers Bangalore</td>\n",
              "    </tr>\n",
              "    <tr>\n",
              "      <th>2</th>\n",
              "      <td>335982</td>\n",
              "      <td>1</td>\n",
              "      <td>7</td>\n",
              "      <td>1</td>\n",
              "      <td>BB McCullum</td>\n",
              "      <td>RT Ponting</td>\n",
              "      <td>Z Khan</td>\n",
              "      <td>0</td>\n",
              "      <td>0</td>\n",
              "      <td>0</td>\n",
              "      <td>0</td>\n",
              "      <td>0</td>\n",
              "      <td>NaN</td>\n",
              "      <td>NaN</td>\n",
              "      <td>NaN</td>\n",
              "      <td>NaN</td>\n",
              "      <td>Kolkata Knight Riders</td>\n",
              "      <td>Royal Challengers Bangalore</td>\n",
              "    </tr>\n",
              "    <tr>\n",
              "      <th>3</th>\n",
              "      <td>335982</td>\n",
              "      <td>1</td>\n",
              "      <td>7</td>\n",
              "      <td>2</td>\n",
              "      <td>BB McCullum</td>\n",
              "      <td>RT Ponting</td>\n",
              "      <td>Z Khan</td>\n",
              "      <td>1</td>\n",
              "      <td>0</td>\n",
              "      <td>1</td>\n",
              "      <td>0</td>\n",
              "      <td>0</td>\n",
              "      <td>NaN</td>\n",
              "      <td>NaN</td>\n",
              "      <td>NaN</td>\n",
              "      <td>NaN</td>\n",
              "      <td>Kolkata Knight Riders</td>\n",
              "      <td>Royal Challengers Bangalore</td>\n",
              "    </tr>\n",
              "    <tr>\n",
              "      <th>4</th>\n",
              "      <td>335982</td>\n",
              "      <td>1</td>\n",
              "      <td>7</td>\n",
              "      <td>3</td>\n",
              "      <td>RT Ponting</td>\n",
              "      <td>BB McCullum</td>\n",
              "      <td>Z Khan</td>\n",
              "      <td>1</td>\n",
              "      <td>0</td>\n",
              "      <td>1</td>\n",
              "      <td>0</td>\n",
              "      <td>0</td>\n",
              "      <td>NaN</td>\n",
              "      <td>NaN</td>\n",
              "      <td>NaN</td>\n",
              "      <td>NaN</td>\n",
              "      <td>Kolkata Knight Riders</td>\n",
              "      <td>Royal Challengers Bangalore</td>\n",
              "    </tr>\n",
              "  </tbody>\n",
              "</table>\n",
              "</div>"
            ],
            "text/plain": [
              "       id  inning  ...           batting_team                 bowling_team\n",
              "0  335982       1  ...  Kolkata Knight Riders  Royal Challengers Bangalore\n",
              "1  335982       1  ...  Kolkata Knight Riders  Royal Challengers Bangalore\n",
              "2  335982       1  ...  Kolkata Knight Riders  Royal Challengers Bangalore\n",
              "3  335982       1  ...  Kolkata Knight Riders  Royal Challengers Bangalore\n",
              "4  335982       1  ...  Kolkata Knight Riders  Royal Challengers Bangalore\n",
              "\n",
              "[5 rows x 18 columns]"
            ]
          },
          "metadata": {
            "tags": []
          },
          "execution_count": 10
        }
      ]
    },
    {
      "cell_type": "code",
      "metadata": {
        "colab": {
          "base_uri": "https://localhost:8080/",
          "height": 411
        },
        "id": "eL4lXtfJ67M3",
        "outputId": "3eb5437e-eff9-4397-c1ed-789dff342439"
      },
      "source": [
        "matchData.head()"
      ],
      "execution_count": 11,
      "outputs": [
        {
          "output_type": "execute_result",
          "data": {
            "text/html": [
              "<div>\n",
              "<style scoped>\n",
              "    .dataframe tbody tr th:only-of-type {\n",
              "        vertical-align: middle;\n",
              "    }\n",
              "\n",
              "    .dataframe tbody tr th {\n",
              "        vertical-align: top;\n",
              "    }\n",
              "\n",
              "    .dataframe thead th {\n",
              "        text-align: right;\n",
              "    }\n",
              "</style>\n",
              "<table border=\"1\" class=\"dataframe\">\n",
              "  <thead>\n",
              "    <tr style=\"text-align: right;\">\n",
              "      <th></th>\n",
              "      <th>id</th>\n",
              "      <th>city</th>\n",
              "      <th>date</th>\n",
              "      <th>player_of_match</th>\n",
              "      <th>venue</th>\n",
              "      <th>neutral_venue</th>\n",
              "      <th>team1</th>\n",
              "      <th>team2</th>\n",
              "      <th>toss_winner</th>\n",
              "      <th>toss_decision</th>\n",
              "      <th>winner</th>\n",
              "      <th>result</th>\n",
              "      <th>result_margin</th>\n",
              "      <th>eliminator</th>\n",
              "      <th>method</th>\n",
              "      <th>umpire1</th>\n",
              "      <th>umpire2</th>\n",
              "    </tr>\n",
              "  </thead>\n",
              "  <tbody>\n",
              "    <tr>\n",
              "      <th>0</th>\n",
              "      <td>335982</td>\n",
              "      <td>Bangalore</td>\n",
              "      <td>2008-04-18</td>\n",
              "      <td>BB McCullum</td>\n",
              "      <td>M Chinnaswamy Stadium</td>\n",
              "      <td>0</td>\n",
              "      <td>Royal Challengers Bangalore</td>\n",
              "      <td>Kolkata Knight Riders</td>\n",
              "      <td>Royal Challengers Bangalore</td>\n",
              "      <td>field</td>\n",
              "      <td>Kolkata Knight Riders</td>\n",
              "      <td>runs</td>\n",
              "      <td>140.0</td>\n",
              "      <td>N</td>\n",
              "      <td>NaN</td>\n",
              "      <td>Asad Rauf</td>\n",
              "      <td>RE Koertzen</td>\n",
              "    </tr>\n",
              "    <tr>\n",
              "      <th>1</th>\n",
              "      <td>335983</td>\n",
              "      <td>Chandigarh</td>\n",
              "      <td>2008-04-19</td>\n",
              "      <td>MEK Hussey</td>\n",
              "      <td>Punjab Cricket Association Stadium, Mohali</td>\n",
              "      <td>0</td>\n",
              "      <td>Kings XI Punjab</td>\n",
              "      <td>Chennai Super Kings</td>\n",
              "      <td>Chennai Super Kings</td>\n",
              "      <td>bat</td>\n",
              "      <td>Chennai Super Kings</td>\n",
              "      <td>runs</td>\n",
              "      <td>33.0</td>\n",
              "      <td>N</td>\n",
              "      <td>NaN</td>\n",
              "      <td>MR Benson</td>\n",
              "      <td>SL Shastri</td>\n",
              "    </tr>\n",
              "    <tr>\n",
              "      <th>2</th>\n",
              "      <td>335984</td>\n",
              "      <td>Delhi</td>\n",
              "      <td>2008-04-19</td>\n",
              "      <td>MF Maharoof</td>\n",
              "      <td>Feroz Shah Kotla</td>\n",
              "      <td>0</td>\n",
              "      <td>Delhi Daredevils</td>\n",
              "      <td>Rajasthan Royals</td>\n",
              "      <td>Rajasthan Royals</td>\n",
              "      <td>bat</td>\n",
              "      <td>Delhi Daredevils</td>\n",
              "      <td>wickets</td>\n",
              "      <td>9.0</td>\n",
              "      <td>N</td>\n",
              "      <td>NaN</td>\n",
              "      <td>Aleem Dar</td>\n",
              "      <td>GA Pratapkumar</td>\n",
              "    </tr>\n",
              "    <tr>\n",
              "      <th>3</th>\n",
              "      <td>335985</td>\n",
              "      <td>Mumbai</td>\n",
              "      <td>2008-04-20</td>\n",
              "      <td>MV Boucher</td>\n",
              "      <td>Wankhede Stadium</td>\n",
              "      <td>0</td>\n",
              "      <td>Mumbai Indians</td>\n",
              "      <td>Royal Challengers Bangalore</td>\n",
              "      <td>Mumbai Indians</td>\n",
              "      <td>bat</td>\n",
              "      <td>Royal Challengers Bangalore</td>\n",
              "      <td>wickets</td>\n",
              "      <td>5.0</td>\n",
              "      <td>N</td>\n",
              "      <td>NaN</td>\n",
              "      <td>SJ Davis</td>\n",
              "      <td>DJ Harper</td>\n",
              "    </tr>\n",
              "    <tr>\n",
              "      <th>4</th>\n",
              "      <td>335986</td>\n",
              "      <td>Kolkata</td>\n",
              "      <td>2008-04-20</td>\n",
              "      <td>DJ Hussey</td>\n",
              "      <td>Eden Gardens</td>\n",
              "      <td>0</td>\n",
              "      <td>Kolkata Knight Riders</td>\n",
              "      <td>Deccan Chargers</td>\n",
              "      <td>Deccan Chargers</td>\n",
              "      <td>bat</td>\n",
              "      <td>Kolkata Knight Riders</td>\n",
              "      <td>wickets</td>\n",
              "      <td>5.0</td>\n",
              "      <td>N</td>\n",
              "      <td>NaN</td>\n",
              "      <td>BF Bowden</td>\n",
              "      <td>K Hariharan</td>\n",
              "    </tr>\n",
              "  </tbody>\n",
              "</table>\n",
              "</div>"
            ],
            "text/plain": [
              "       id        city        date  ... method    umpire1         umpire2\n",
              "0  335982   Bangalore  2008-04-18  ...    NaN  Asad Rauf     RE Koertzen\n",
              "1  335983  Chandigarh  2008-04-19  ...    NaN  MR Benson      SL Shastri\n",
              "2  335984       Delhi  2008-04-19  ...    NaN  Aleem Dar  GA Pratapkumar\n",
              "3  335985      Mumbai  2008-04-20  ...    NaN   SJ Davis       DJ Harper\n",
              "4  335986     Kolkata  2008-04-20  ...    NaN  BF Bowden     K Hariharan\n",
              "\n",
              "[5 rows x 17 columns]"
            ]
          },
          "metadata": {
            "tags": []
          },
          "execution_count": 11
        }
      ]
    },
    {
      "cell_type": "code",
      "metadata": {
        "colab": {
          "base_uri": "https://localhost:8080/",
          "height": 712
        },
        "id": "m-vllEpL7dpf",
        "outputId": "61c36924-ddea-4890-d06e-a47c2cdea2fc"
      },
      "source": [
        "(bobData.describe(include='all').T)"
      ],
      "execution_count": 12,
      "outputs": [
        {
          "output_type": "execute_result",
          "data": {
            "text/html": [
              "<div>\n",
              "<style scoped>\n",
              "    .dataframe tbody tr th:only-of-type {\n",
              "        vertical-align: middle;\n",
              "    }\n",
              "\n",
              "    .dataframe tbody tr th {\n",
              "        vertical-align: top;\n",
              "    }\n",
              "\n",
              "    .dataframe thead th {\n",
              "        text-align: right;\n",
              "    }\n",
              "</style>\n",
              "<table border=\"1\" class=\"dataframe\">\n",
              "  <thead>\n",
              "    <tr style=\"text-align: right;\">\n",
              "      <th></th>\n",
              "      <th>count</th>\n",
              "      <th>unique</th>\n",
              "      <th>top</th>\n",
              "      <th>freq</th>\n",
              "      <th>mean</th>\n",
              "      <th>std</th>\n",
              "      <th>min</th>\n",
              "      <th>25%</th>\n",
              "      <th>50%</th>\n",
              "      <th>75%</th>\n",
              "      <th>max</th>\n",
              "    </tr>\n",
              "  </thead>\n",
              "  <tbody>\n",
              "    <tr>\n",
              "      <th>id</th>\n",
              "      <td>193468</td>\n",
              "      <td>NaN</td>\n",
              "      <td>NaN</td>\n",
              "      <td>NaN</td>\n",
              "      <td>756769</td>\n",
              "      <td>306097</td>\n",
              "      <td>335982</td>\n",
              "      <td>501227</td>\n",
              "      <td>729297</td>\n",
              "      <td>1.08263e+06</td>\n",
              "      <td>1.23718e+06</td>\n",
              "    </tr>\n",
              "    <tr>\n",
              "      <th>inning</th>\n",
              "      <td>193468</td>\n",
              "      <td>NaN</td>\n",
              "      <td>NaN</td>\n",
              "      <td>NaN</td>\n",
              "      <td>1.48213</td>\n",
              "      <td>0.499682</td>\n",
              "      <td>1</td>\n",
              "      <td>1</td>\n",
              "      <td>1</td>\n",
              "      <td>2</td>\n",
              "      <td>2</td>\n",
              "    </tr>\n",
              "    <tr>\n",
              "      <th>over</th>\n",
              "      <td>193468</td>\n",
              "      <td>NaN</td>\n",
              "      <td>NaN</td>\n",
              "      <td>NaN</td>\n",
              "      <td>9.17703</td>\n",
              "      <td>5.67685</td>\n",
              "      <td>0</td>\n",
              "      <td>4</td>\n",
              "      <td>9</td>\n",
              "      <td>14</td>\n",
              "      <td>19</td>\n",
              "    </tr>\n",
              "    <tr>\n",
              "      <th>ball</th>\n",
              "      <td>193468</td>\n",
              "      <td>NaN</td>\n",
              "      <td>NaN</td>\n",
              "      <td>NaN</td>\n",
              "      <td>3.61597</td>\n",
              "      <td>1.80713</td>\n",
              "      <td>1</td>\n",
              "      <td>2</td>\n",
              "      <td>4</td>\n",
              "      <td>5</td>\n",
              "      <td>9</td>\n",
              "    </tr>\n",
              "    <tr>\n",
              "      <th>batsman</th>\n",
              "      <td>193468</td>\n",
              "      <td>537</td>\n",
              "      <td>V Kohli</td>\n",
              "      <td>4609</td>\n",
              "      <td>NaN</td>\n",
              "      <td>NaN</td>\n",
              "      <td>NaN</td>\n",
              "      <td>NaN</td>\n",
              "      <td>NaN</td>\n",
              "      <td>NaN</td>\n",
              "      <td>NaN</td>\n",
              "    </tr>\n",
              "    <tr>\n",
              "      <th>non_striker</th>\n",
              "      <td>193468</td>\n",
              "      <td>530</td>\n",
              "      <td>S Dhawan</td>\n",
              "      <td>4593</td>\n",
              "      <td>NaN</td>\n",
              "      <td>NaN</td>\n",
              "      <td>NaN</td>\n",
              "      <td>NaN</td>\n",
              "      <td>NaN</td>\n",
              "      <td>NaN</td>\n",
              "      <td>NaN</td>\n",
              "    </tr>\n",
              "    <tr>\n",
              "      <th>bowler</th>\n",
              "      <td>193468</td>\n",
              "      <td>420</td>\n",
              "      <td>Harbhajan Singh</td>\n",
              "      <td>3451</td>\n",
              "      <td>NaN</td>\n",
              "      <td>NaN</td>\n",
              "      <td>NaN</td>\n",
              "      <td>NaN</td>\n",
              "      <td>NaN</td>\n",
              "      <td>NaN</td>\n",
              "      <td>NaN</td>\n",
              "    </tr>\n",
              "    <tr>\n",
              "      <th>batsman_runs</th>\n",
              "      <td>193468</td>\n",
              "      <td>NaN</td>\n",
              "      <td>NaN</td>\n",
              "      <td>NaN</td>\n",
              "      <td>1.24023</td>\n",
              "      <td>1.61087</td>\n",
              "      <td>0</td>\n",
              "      <td>0</td>\n",
              "      <td>1</td>\n",
              "      <td>1</td>\n",
              "      <td>6</td>\n",
              "    </tr>\n",
              "    <tr>\n",
              "      <th>extra_runs</th>\n",
              "      <td>193468</td>\n",
              "      <td>NaN</td>\n",
              "      <td>NaN</td>\n",
              "      <td>NaN</td>\n",
              "      <td>0.0664141</td>\n",
              "      <td>0.339991</td>\n",
              "      <td>0</td>\n",
              "      <td>0</td>\n",
              "      <td>0</td>\n",
              "      <td>0</td>\n",
              "      <td>7</td>\n",
              "    </tr>\n",
              "    <tr>\n",
              "      <th>total_runs</th>\n",
              "      <td>193468</td>\n",
              "      <td>NaN</td>\n",
              "      <td>NaN</td>\n",
              "      <td>NaN</td>\n",
              "      <td>1.30665</td>\n",
              "      <td>1.5988</td>\n",
              "      <td>0</td>\n",
              "      <td>0</td>\n",
              "      <td>1</td>\n",
              "      <td>1</td>\n",
              "      <td>7</td>\n",
              "    </tr>\n",
              "    <tr>\n",
              "      <th>non_boundary</th>\n",
              "      <td>193468</td>\n",
              "      <td>NaN</td>\n",
              "      <td>NaN</td>\n",
              "      <td>NaN</td>\n",
              "      <td>8.2701e-05</td>\n",
              "      <td>0.00909366</td>\n",
              "      <td>0</td>\n",
              "      <td>0</td>\n",
              "      <td>0</td>\n",
              "      <td>0</td>\n",
              "      <td>1</td>\n",
              "    </tr>\n",
              "    <tr>\n",
              "      <th>is_wicket</th>\n",
              "      <td>193468</td>\n",
              "      <td>NaN</td>\n",
              "      <td>NaN</td>\n",
              "      <td>NaN</td>\n",
              "      <td>0.0490779</td>\n",
              "      <td>0.216031</td>\n",
              "      <td>0</td>\n",
              "      <td>0</td>\n",
              "      <td>0</td>\n",
              "      <td>0</td>\n",
              "      <td>1</td>\n",
              "    </tr>\n",
              "    <tr>\n",
              "      <th>dismissal_kind</th>\n",
              "      <td>9495</td>\n",
              "      <td>9</td>\n",
              "      <td>caught</td>\n",
              "      <td>5743</td>\n",
              "      <td>NaN</td>\n",
              "      <td>NaN</td>\n",
              "      <td>NaN</td>\n",
              "      <td>NaN</td>\n",
              "      <td>NaN</td>\n",
              "      <td>NaN</td>\n",
              "      <td>NaN</td>\n",
              "    </tr>\n",
              "    <tr>\n",
              "      <th>player_dismissed</th>\n",
              "      <td>9495</td>\n",
              "      <td>506</td>\n",
              "      <td>RG Sharma</td>\n",
              "      <td>167</td>\n",
              "      <td>NaN</td>\n",
              "      <td>NaN</td>\n",
              "      <td>NaN</td>\n",
              "      <td>NaN</td>\n",
              "      <td>NaN</td>\n",
              "      <td>NaN</td>\n",
              "      <td>NaN</td>\n",
              "    </tr>\n",
              "    <tr>\n",
              "      <th>fielder</th>\n",
              "      <td>6784</td>\n",
              "      <td>879</td>\n",
              "      <td>MS Dhoni</td>\n",
              "      <td>164</td>\n",
              "      <td>NaN</td>\n",
              "      <td>NaN</td>\n",
              "      <td>NaN</td>\n",
              "      <td>NaN</td>\n",
              "      <td>NaN</td>\n",
              "      <td>NaN</td>\n",
              "      <td>NaN</td>\n",
              "    </tr>\n",
              "    <tr>\n",
              "      <th>extras_type</th>\n",
              "      <td>10233</td>\n",
              "      <td>5</td>\n",
              "      <td>wides</td>\n",
              "      <td>5858</td>\n",
              "      <td>NaN</td>\n",
              "      <td>NaN</td>\n",
              "      <td>NaN</td>\n",
              "      <td>NaN</td>\n",
              "      <td>NaN</td>\n",
              "      <td>NaN</td>\n",
              "      <td>NaN</td>\n",
              "    </tr>\n",
              "    <tr>\n",
              "      <th>batting_team</th>\n",
              "      <td>193468</td>\n",
              "      <td>15</td>\n",
              "      <td>Mumbai Indians</td>\n",
              "      <td>24466</td>\n",
              "      <td>NaN</td>\n",
              "      <td>NaN</td>\n",
              "      <td>NaN</td>\n",
              "      <td>NaN</td>\n",
              "      <td>NaN</td>\n",
              "      <td>NaN</td>\n",
              "      <td>NaN</td>\n",
              "    </tr>\n",
              "    <tr>\n",
              "      <th>bowling_team</th>\n",
              "      <td>193277</td>\n",
              "      <td>15</td>\n",
              "      <td>Mumbai Indians</td>\n",
              "      <td>24453</td>\n",
              "      <td>NaN</td>\n",
              "      <td>NaN</td>\n",
              "      <td>NaN</td>\n",
              "      <td>NaN</td>\n",
              "      <td>NaN</td>\n",
              "      <td>NaN</td>\n",
              "      <td>NaN</td>\n",
              "    </tr>\n",
              "  </tbody>\n",
              "</table>\n",
              "</div>"
            ],
            "text/plain": [
              "                   count unique  ...          75%          max\n",
              "id                193468    NaN  ...  1.08263e+06  1.23718e+06\n",
              "inning            193468    NaN  ...            2            2\n",
              "over              193468    NaN  ...           14           19\n",
              "ball              193468    NaN  ...            5            9\n",
              "batsman           193468    537  ...          NaN          NaN\n",
              "non_striker       193468    530  ...          NaN          NaN\n",
              "bowler            193468    420  ...          NaN          NaN\n",
              "batsman_runs      193468    NaN  ...            1            6\n",
              "extra_runs        193468    NaN  ...            0            7\n",
              "total_runs        193468    NaN  ...            1            7\n",
              "non_boundary      193468    NaN  ...            0            1\n",
              "is_wicket         193468    NaN  ...            0            1\n",
              "dismissal_kind      9495      9  ...          NaN          NaN\n",
              "player_dismissed    9495    506  ...          NaN          NaN\n",
              "fielder             6784    879  ...          NaN          NaN\n",
              "extras_type        10233      5  ...          NaN          NaN\n",
              "batting_team      193468     15  ...          NaN          NaN\n",
              "bowling_team      193277     15  ...          NaN          NaN\n",
              "\n",
              "[18 rows x 11 columns]"
            ]
          },
          "metadata": {
            "tags": []
          },
          "execution_count": 12
        }
      ]
    },
    {
      "cell_type": "markdown",
      "metadata": {
        "id": "Efk7VeZL2WnN"
      },
      "source": [
        "# Data Cleaning"
      ]
    },
    {
      "cell_type": "code",
      "metadata": {
        "colab": {
          "base_uri": "https://localhost:8080/",
          "height": 411
        },
        "id": "Bqv7vDBr2Z2R",
        "outputId": "0d336f5b-5deb-4061-cd3b-c54079db342f"
      },
      "source": [
        "matchData.head()"
      ],
      "execution_count": 13,
      "outputs": [
        {
          "output_type": "execute_result",
          "data": {
            "text/html": [
              "<div>\n",
              "<style scoped>\n",
              "    .dataframe tbody tr th:only-of-type {\n",
              "        vertical-align: middle;\n",
              "    }\n",
              "\n",
              "    .dataframe tbody tr th {\n",
              "        vertical-align: top;\n",
              "    }\n",
              "\n",
              "    .dataframe thead th {\n",
              "        text-align: right;\n",
              "    }\n",
              "</style>\n",
              "<table border=\"1\" class=\"dataframe\">\n",
              "  <thead>\n",
              "    <tr style=\"text-align: right;\">\n",
              "      <th></th>\n",
              "      <th>id</th>\n",
              "      <th>city</th>\n",
              "      <th>date</th>\n",
              "      <th>player_of_match</th>\n",
              "      <th>venue</th>\n",
              "      <th>neutral_venue</th>\n",
              "      <th>team1</th>\n",
              "      <th>team2</th>\n",
              "      <th>toss_winner</th>\n",
              "      <th>toss_decision</th>\n",
              "      <th>winner</th>\n",
              "      <th>result</th>\n",
              "      <th>result_margin</th>\n",
              "      <th>eliminator</th>\n",
              "      <th>method</th>\n",
              "      <th>umpire1</th>\n",
              "      <th>umpire2</th>\n",
              "    </tr>\n",
              "  </thead>\n",
              "  <tbody>\n",
              "    <tr>\n",
              "      <th>0</th>\n",
              "      <td>335982</td>\n",
              "      <td>Bangalore</td>\n",
              "      <td>2008-04-18</td>\n",
              "      <td>BB McCullum</td>\n",
              "      <td>M Chinnaswamy Stadium</td>\n",
              "      <td>0</td>\n",
              "      <td>Royal Challengers Bangalore</td>\n",
              "      <td>Kolkata Knight Riders</td>\n",
              "      <td>Royal Challengers Bangalore</td>\n",
              "      <td>field</td>\n",
              "      <td>Kolkata Knight Riders</td>\n",
              "      <td>runs</td>\n",
              "      <td>140.0</td>\n",
              "      <td>N</td>\n",
              "      <td>NaN</td>\n",
              "      <td>Asad Rauf</td>\n",
              "      <td>RE Koertzen</td>\n",
              "    </tr>\n",
              "    <tr>\n",
              "      <th>1</th>\n",
              "      <td>335983</td>\n",
              "      <td>Chandigarh</td>\n",
              "      <td>2008-04-19</td>\n",
              "      <td>MEK Hussey</td>\n",
              "      <td>Punjab Cricket Association Stadium, Mohali</td>\n",
              "      <td>0</td>\n",
              "      <td>Kings XI Punjab</td>\n",
              "      <td>Chennai Super Kings</td>\n",
              "      <td>Chennai Super Kings</td>\n",
              "      <td>bat</td>\n",
              "      <td>Chennai Super Kings</td>\n",
              "      <td>runs</td>\n",
              "      <td>33.0</td>\n",
              "      <td>N</td>\n",
              "      <td>NaN</td>\n",
              "      <td>MR Benson</td>\n",
              "      <td>SL Shastri</td>\n",
              "    </tr>\n",
              "    <tr>\n",
              "      <th>2</th>\n",
              "      <td>335984</td>\n",
              "      <td>Delhi</td>\n",
              "      <td>2008-04-19</td>\n",
              "      <td>MF Maharoof</td>\n",
              "      <td>Feroz Shah Kotla</td>\n",
              "      <td>0</td>\n",
              "      <td>Delhi Daredevils</td>\n",
              "      <td>Rajasthan Royals</td>\n",
              "      <td>Rajasthan Royals</td>\n",
              "      <td>bat</td>\n",
              "      <td>Delhi Daredevils</td>\n",
              "      <td>wickets</td>\n",
              "      <td>9.0</td>\n",
              "      <td>N</td>\n",
              "      <td>NaN</td>\n",
              "      <td>Aleem Dar</td>\n",
              "      <td>GA Pratapkumar</td>\n",
              "    </tr>\n",
              "    <tr>\n",
              "      <th>3</th>\n",
              "      <td>335985</td>\n",
              "      <td>Mumbai</td>\n",
              "      <td>2008-04-20</td>\n",
              "      <td>MV Boucher</td>\n",
              "      <td>Wankhede Stadium</td>\n",
              "      <td>0</td>\n",
              "      <td>Mumbai Indians</td>\n",
              "      <td>Royal Challengers Bangalore</td>\n",
              "      <td>Mumbai Indians</td>\n",
              "      <td>bat</td>\n",
              "      <td>Royal Challengers Bangalore</td>\n",
              "      <td>wickets</td>\n",
              "      <td>5.0</td>\n",
              "      <td>N</td>\n",
              "      <td>NaN</td>\n",
              "      <td>SJ Davis</td>\n",
              "      <td>DJ Harper</td>\n",
              "    </tr>\n",
              "    <tr>\n",
              "      <th>4</th>\n",
              "      <td>335986</td>\n",
              "      <td>Kolkata</td>\n",
              "      <td>2008-04-20</td>\n",
              "      <td>DJ Hussey</td>\n",
              "      <td>Eden Gardens</td>\n",
              "      <td>0</td>\n",
              "      <td>Kolkata Knight Riders</td>\n",
              "      <td>Deccan Chargers</td>\n",
              "      <td>Deccan Chargers</td>\n",
              "      <td>bat</td>\n",
              "      <td>Kolkata Knight Riders</td>\n",
              "      <td>wickets</td>\n",
              "      <td>5.0</td>\n",
              "      <td>N</td>\n",
              "      <td>NaN</td>\n",
              "      <td>BF Bowden</td>\n",
              "      <td>K Hariharan</td>\n",
              "    </tr>\n",
              "  </tbody>\n",
              "</table>\n",
              "</div>"
            ],
            "text/plain": [
              "       id        city        date  ... method    umpire1         umpire2\n",
              "0  335982   Bangalore  2008-04-18  ...    NaN  Asad Rauf     RE Koertzen\n",
              "1  335983  Chandigarh  2008-04-19  ...    NaN  MR Benson      SL Shastri\n",
              "2  335984       Delhi  2008-04-19  ...    NaN  Aleem Dar  GA Pratapkumar\n",
              "3  335985      Mumbai  2008-04-20  ...    NaN   SJ Davis       DJ Harper\n",
              "4  335986     Kolkata  2008-04-20  ...    NaN  BF Bowden     K Hariharan\n",
              "\n",
              "[5 rows x 17 columns]"
            ]
          },
          "metadata": {
            "tags": []
          },
          "execution_count": 13
        }
      ]
    },
    {
      "cell_type": "code",
      "metadata": {
        "colab": {
          "base_uri": "https://localhost:8080/"
        },
        "id": "qFuaI4Rb2efs",
        "outputId": "0d7d1ea2-f839-441f-b167-5b449b388f62"
      },
      "source": [
        "matchData.dtypes"
      ],
      "execution_count": 14,
      "outputs": [
        {
          "output_type": "execute_result",
          "data": {
            "text/plain": [
              "id                   int64\n",
              "city                object\n",
              "date                object\n",
              "player_of_match     object\n",
              "venue               object\n",
              "neutral_venue        int64\n",
              "team1               object\n",
              "team2               object\n",
              "toss_winner         object\n",
              "toss_decision       object\n",
              "winner              object\n",
              "result              object\n",
              "result_margin      float64\n",
              "eliminator          object\n",
              "method              object\n",
              "umpire1             object\n",
              "umpire2             object\n",
              "dtype: object"
            ]
          },
          "metadata": {
            "tags": []
          },
          "execution_count": 14
        }
      ]
    },
    {
      "cell_type": "code",
      "metadata": {
        "colab": {
          "base_uri": "https://localhost:8080/"
        },
        "id": "fkSunMYd2jvU",
        "outputId": "cfef4a34-f656-45fe-ff67-d0b86a51b350"
      },
      "source": [
        "matchData.city.unique()"
      ],
      "execution_count": 15,
      "outputs": [
        {
          "output_type": "execute_result",
          "data": {
            "text/plain": [
              "array(['Bangalore', 'Chandigarh', 'Delhi', 'Mumbai', 'Kolkata', 'Jaipur',\n",
              "       'Hyderabad', 'Chennai', 'Cape Town', 'Port Elizabeth', 'Durban',\n",
              "       'Centurion', 'East London', 'Johannesburg', 'Kimberley',\n",
              "       'Bloemfontein', 'Ahmedabad', 'Cuttack', 'Nagpur', 'Dharamsala',\n",
              "       'Kochi', 'Indore', 'Visakhapatnam', 'Pune', 'Raipur', 'Ranchi',\n",
              "       'Abu Dhabi', nan, 'Rajkot', 'Kanpur', 'Bengaluru', 'Dubai',\n",
              "       'Sharjah'], dtype=object)"
            ]
          },
          "metadata": {
            "tags": []
          },
          "execution_count": 15
        }
      ]
    },
    {
      "cell_type": "code",
      "metadata": {
        "colab": {
          "base_uri": "https://localhost:8080/"
        },
        "id": "wCVKw72x3rBK",
        "outputId": "0bccbc61-efa9-434d-9bbc-032a41b8dd20"
      },
      "source": [
        "matchData.team1.unique()"
      ],
      "execution_count": 16,
      "outputs": [
        {
          "output_type": "execute_result",
          "data": {
            "text/plain": [
              "array(['Royal Challengers Bangalore', 'Kings XI Punjab',\n",
              "       'Delhi Daredevils', 'Mumbai Indians', 'Kolkata Knight Riders',\n",
              "       'Rajasthan Royals', 'Deccan Chargers', 'Chennai Super Kings',\n",
              "       'Kochi Tuskers Kerala', 'Pune Warriors', 'Sunrisers Hyderabad',\n",
              "       'Gujarat Lions', 'Rising Pune Supergiants',\n",
              "       'Rising Pune Supergiant', 'Delhi Capitals'], dtype=object)"
            ]
          },
          "metadata": {
            "tags": []
          },
          "execution_count": 16
        }
      ]
    },
    {
      "cell_type": "code",
      "metadata": {
        "id": "hglNEUPe2vkh"
      },
      "source": [
        "matchData.team1.replace({'Rising Pune Supergiants':'Rising Pune Supergiant'}, regex=True, inplace=True)"
      ],
      "execution_count": 17,
      "outputs": []
    },
    {
      "cell_type": "code",
      "metadata": {
        "colab": {
          "base_uri": "https://localhost:8080/"
        },
        "id": "VA7-PTRB27xD",
        "outputId": "bf750cef-f236-4b99-d93b-aaae2ddff9ee"
      },
      "source": [
        "matchData.team1.unique()"
      ],
      "execution_count": 18,
      "outputs": [
        {
          "output_type": "execute_result",
          "data": {
            "text/plain": [
              "array(['Royal Challengers Bangalore', 'Kings XI Punjab',\n",
              "       'Delhi Daredevils', 'Mumbai Indians', 'Kolkata Knight Riders',\n",
              "       'Rajasthan Royals', 'Deccan Chargers', 'Chennai Super Kings',\n",
              "       'Kochi Tuskers Kerala', 'Pune Warriors', 'Sunrisers Hyderabad',\n",
              "       'Gujarat Lions', 'Rising Pune Supergiant', 'Delhi Capitals'],\n",
              "      dtype=object)"
            ]
          },
          "metadata": {
            "tags": []
          },
          "execution_count": 18
        }
      ]
    },
    {
      "cell_type": "code",
      "metadata": {
        "colab": {
          "base_uri": "https://localhost:8080/"
        },
        "id": "KsTFoIg94hhN",
        "outputId": "56ec88ed-10c9-4a04-9746-c983eb1a2343"
      },
      "source": [
        "matchData.team2.unique()"
      ],
      "execution_count": 19,
      "outputs": [
        {
          "output_type": "execute_result",
          "data": {
            "text/plain": [
              "array(['Kolkata Knight Riders', 'Chennai Super Kings', 'Rajasthan Royals',\n",
              "       'Royal Challengers Bangalore', 'Deccan Chargers',\n",
              "       'Kings XI Punjab', 'Delhi Daredevils', 'Mumbai Indians',\n",
              "       'Kochi Tuskers Kerala', 'Pune Warriors', 'Sunrisers Hyderabad',\n",
              "       'Rising Pune Supergiants', 'Gujarat Lions',\n",
              "       'Rising Pune Supergiant', 'Delhi Capitals'], dtype=object)"
            ]
          },
          "metadata": {
            "tags": []
          },
          "execution_count": 19
        }
      ]
    },
    {
      "cell_type": "code",
      "metadata": {
        "colab": {
          "base_uri": "https://localhost:8080/"
        },
        "id": "HjA-A1J14mXR",
        "outputId": "47b71528-dfbe-4ea7-cbb2-97476296dae6"
      },
      "source": [
        "matchData.toss_winner.unique()"
      ],
      "execution_count": 20,
      "outputs": [
        {
          "output_type": "execute_result",
          "data": {
            "text/plain": [
              "array(['Royal Challengers Bangalore', 'Chennai Super Kings',\n",
              "       'Rajasthan Royals', 'Mumbai Indians', 'Deccan Chargers',\n",
              "       'Kings XI Punjab', 'Kolkata Knight Riders', 'Delhi Daredevils',\n",
              "       'Kochi Tuskers Kerala', 'Pune Warriors', 'Sunrisers Hyderabad',\n",
              "       'Gujarat Lions', 'Rising Pune Supergiants',\n",
              "       'Rising Pune Supergiant', 'Delhi Capitals'], dtype=object)"
            ]
          },
          "metadata": {
            "tags": []
          },
          "execution_count": 20
        }
      ]
    },
    {
      "cell_type": "code",
      "metadata": {
        "colab": {
          "base_uri": "https://localhost:8080/"
        },
        "id": "5vy3rDnj4q3_",
        "outputId": "4eedbdf0-379f-4e8e-80d1-756992e01151"
      },
      "source": [
        "matchData.winner.unique()"
      ],
      "execution_count": 21,
      "outputs": [
        {
          "output_type": "execute_result",
          "data": {
            "text/plain": [
              "array(['Kolkata Knight Riders', 'Chennai Super Kings', 'Delhi Daredevils',\n",
              "       'Royal Challengers Bangalore', 'Rajasthan Royals',\n",
              "       'Kings XI Punjab', 'Deccan Chargers', 'Mumbai Indians',\n",
              "       'Pune Warriors', 'Kochi Tuskers Kerala', nan,\n",
              "       'Sunrisers Hyderabad', 'Rising Pune Supergiants', 'Gujarat Lions',\n",
              "       'Rising Pune Supergiant', 'Delhi Capitals'], dtype=object)"
            ]
          },
          "metadata": {
            "tags": []
          },
          "execution_count": 21
        }
      ]
    },
    {
      "cell_type": "code",
      "metadata": {
        "id": "Z12AjWbN4sQh"
      },
      "source": [
        "matchData.team2.replace({'Rising Pune Supergiants':'Rising Pune Supergiant'}, regex=True, inplace=True)\n",
        "matchData.toss_winner.replace({'Rising Pune Supergiants':'Rising Pune Supergiant'}, regex=True, inplace=True)\n",
        "matchData.winner.replace({'Rising Pune Supergiants':'Rising Pune Supergiant'}, regex=True, inplace=True)"
      ],
      "execution_count": 22,
      "outputs": []
    },
    {
      "cell_type": "code",
      "metadata": {
        "colab": {
          "base_uri": "https://localhost:8080/"
        },
        "id": "uG_klqCC44yV",
        "outputId": "83a065d1-b3f4-46f6-ef74-e04d867aefd0"
      },
      "source": [
        "matchData.venue.unique()"
      ],
      "execution_count": 23,
      "outputs": [
        {
          "output_type": "execute_result",
          "data": {
            "text/plain": [
              "array(['M Chinnaswamy Stadium',\n",
              "       'Punjab Cricket Association Stadium, Mohali', 'Feroz Shah Kotla',\n",
              "       'Wankhede Stadium', 'Eden Gardens', 'Sawai Mansingh Stadium',\n",
              "       'Rajiv Gandhi International Stadium, Uppal',\n",
              "       'MA Chidambaram Stadium, Chepauk', 'Dr DY Patil Sports Academy',\n",
              "       'Newlands', \"St George's Park\", 'Kingsmead', 'SuperSport Park',\n",
              "       'Buffalo Park', 'New Wanderers Stadium', 'De Beers Diamond Oval',\n",
              "       'OUTsurance Oval', 'Brabourne Stadium',\n",
              "       'Sardar Patel Stadium, Motera', 'Barabati Stadium',\n",
              "       'Vidarbha Cricket Association Stadium, Jamtha',\n",
              "       'Himachal Pradesh Cricket Association Stadium', 'Nehru Stadium',\n",
              "       'Holkar Cricket Stadium',\n",
              "       'Dr. Y.S. Rajasekhara Reddy ACA-VDCA Cricket Stadium',\n",
              "       'Subrata Roy Sahara Stadium',\n",
              "       'Shaheed Veer Narayan Singh International Stadium',\n",
              "       'JSCA International Stadium Complex', 'Sheikh Zayed Stadium',\n",
              "       'Sharjah Cricket Stadium', 'Dubai International Cricket Stadium',\n",
              "       'Maharashtra Cricket Association Stadium',\n",
              "       'Punjab Cricket Association IS Bindra Stadium, Mohali',\n",
              "       'Saurashtra Cricket Association Stadium', 'Green Park',\n",
              "       'M.Chinnaswamy Stadium'], dtype=object)"
            ]
          },
          "metadata": {
            "tags": []
          },
          "execution_count": 23
        }
      ]
    },
    {
      "cell_type": "code",
      "metadata": {
        "id": "8wVB1T9d40n-"
      },
      "source": [
        "matchData.venue.replace({'M Chinnaswamy Stadium' : 'M.Chinnaswamy Stadium', 'Punjab Cricket Association IS Bindra Stadium, Mohali' : 'Punjab Cricket Association Cricket Stadium, Mohali'},regex=True, inplace=True)"
      ],
      "execution_count": 24,
      "outputs": []
    },
    {
      "cell_type": "code",
      "metadata": {
        "colab": {
          "base_uri": "https://localhost:8080/"
        },
        "id": "XAhWQSOm7KWZ",
        "outputId": "704d79f0-ca74-4256-df41-a99e6d11bab1"
      },
      "source": [
        "matchData.venue.isnull().sum()"
      ],
      "execution_count": 25,
      "outputs": [
        {
          "output_type": "execute_result",
          "data": {
            "text/plain": [
              "0"
            ]
          },
          "metadata": {
            "tags": []
          },
          "execution_count": 25
        }
      ]
    },
    {
      "cell_type": "code",
      "metadata": {
        "colab": {
          "base_uri": "https://localhost:8080/"
        },
        "id": "akeQKD3y7jGn",
        "outputId": "307f6144-d599-4cec-e16a-7d38abf756d1"
      },
      "source": [
        "matchData.city.isnull().sum()"
      ],
      "execution_count": 26,
      "outputs": [
        {
          "output_type": "execute_result",
          "data": {
            "text/plain": [
              "13"
            ]
          },
          "metadata": {
            "tags": []
          },
          "execution_count": 26
        }
      ]
    },
    {
      "cell_type": "code",
      "metadata": {
        "id": "y3kr-09e7nRN"
      },
      "source": [
        "matchData['city'].fillna(matchData['venue'], inplace = True)"
      ],
      "execution_count": 27,
      "outputs": []
    },
    {
      "cell_type": "code",
      "metadata": {
        "colab": {
          "base_uri": "https://localhost:8080/"
        },
        "id": "ZMsB-buH7w6Z",
        "outputId": "681a6753-7e75-4397-d1aa-061b9e1975be"
      },
      "source": [
        "matchData.city.isnull().sum()"
      ],
      "execution_count": 28,
      "outputs": [
        {
          "output_type": "execute_result",
          "data": {
            "text/plain": [
              "0"
            ]
          },
          "metadata": {
            "tags": []
          },
          "execution_count": 28
        }
      ]
    },
    {
      "cell_type": "code",
      "metadata": {
        "colab": {
          "base_uri": "https://localhost:8080/"
        },
        "id": "3fuRQQmw7ym6",
        "outputId": "e51ba08a-8eb8-4740-e0b7-1437bac3e365"
      },
      "source": [
        "matchData.winner.isnull().sum()"
      ],
      "execution_count": 29,
      "outputs": [
        {
          "output_type": "execute_result",
          "data": {
            "text/plain": [
              "4"
            ]
          },
          "metadata": {
            "tags": []
          },
          "execution_count": 29
        }
      ]
    },
    {
      "cell_type": "code",
      "metadata": {
        "colab": {
          "base_uri": "https://localhost:8080/"
        },
        "id": "-YKaSOim7-mB",
        "outputId": "cb64cd1c-e74a-4d4b-ff61-fe2e582f256e"
      },
      "source": [
        "matchData.result.unique()"
      ],
      "execution_count": 30,
      "outputs": [
        {
          "output_type": "execute_result",
          "data": {
            "text/plain": [
              "array(['runs', 'wickets', 'tie', nan], dtype=object)"
            ]
          },
          "metadata": {
            "tags": []
          },
          "execution_count": 30
        }
      ]
    },
    {
      "cell_type": "code",
      "metadata": {
        "colab": {
          "base_uri": "https://localhost:8080/",
          "height": 312
        },
        "id": "b2QmLry49CEJ",
        "outputId": "1beb2b44-7e97-4d38-b769-d0a344726680"
      },
      "source": [
        "matchData[matchData.winner.isna()]"
      ],
      "execution_count": 31,
      "outputs": [
        {
          "output_type": "execute_result",
          "data": {
            "text/html": [
              "<div>\n",
              "<style scoped>\n",
              "    .dataframe tbody tr th:only-of-type {\n",
              "        vertical-align: middle;\n",
              "    }\n",
              "\n",
              "    .dataframe tbody tr th {\n",
              "        vertical-align: top;\n",
              "    }\n",
              "\n",
              "    .dataframe thead th {\n",
              "        text-align: right;\n",
              "    }\n",
              "</style>\n",
              "<table border=\"1\" class=\"dataframe\">\n",
              "  <thead>\n",
              "    <tr style=\"text-align: right;\">\n",
              "      <th></th>\n",
              "      <th>id</th>\n",
              "      <th>city</th>\n",
              "      <th>date</th>\n",
              "      <th>player_of_match</th>\n",
              "      <th>venue</th>\n",
              "      <th>neutral_venue</th>\n",
              "      <th>team1</th>\n",
              "      <th>team2</th>\n",
              "      <th>toss_winner</th>\n",
              "      <th>toss_decision</th>\n",
              "      <th>winner</th>\n",
              "      <th>result</th>\n",
              "      <th>result_margin</th>\n",
              "      <th>eliminator</th>\n",
              "      <th>method</th>\n",
              "      <th>umpire1</th>\n",
              "      <th>umpire2</th>\n",
              "    </tr>\n",
              "  </thead>\n",
              "  <tbody>\n",
              "    <tr>\n",
              "      <th>241</th>\n",
              "      <td>501265</td>\n",
              "      <td>Delhi</td>\n",
              "      <td>2011-05-21</td>\n",
              "      <td>NaN</td>\n",
              "      <td>Feroz Shah Kotla</td>\n",
              "      <td>0</td>\n",
              "      <td>Delhi Daredevils</td>\n",
              "      <td>Pune Warriors</td>\n",
              "      <td>Delhi Daredevils</td>\n",
              "      <td>bat</td>\n",
              "      <td>NaN</td>\n",
              "      <td>NaN</td>\n",
              "      <td>NaN</td>\n",
              "      <td>NaN</td>\n",
              "      <td>NaN</td>\n",
              "      <td>SS Hazare</td>\n",
              "      <td>RJ Tucker</td>\n",
              "    </tr>\n",
              "    <tr>\n",
              "      <th>486</th>\n",
              "      <td>829763</td>\n",
              "      <td>Bangalore</td>\n",
              "      <td>2015-04-29</td>\n",
              "      <td>NaN</td>\n",
              "      <td>M.Chinnaswamy Stadium</td>\n",
              "      <td>0</td>\n",
              "      <td>Royal Challengers Bangalore</td>\n",
              "      <td>Rajasthan Royals</td>\n",
              "      <td>Rajasthan Royals</td>\n",
              "      <td>field</td>\n",
              "      <td>NaN</td>\n",
              "      <td>NaN</td>\n",
              "      <td>NaN</td>\n",
              "      <td>NaN</td>\n",
              "      <td>NaN</td>\n",
              "      <td>JD Cloete</td>\n",
              "      <td>PG Pathak</td>\n",
              "    </tr>\n",
              "    <tr>\n",
              "      <th>511</th>\n",
              "      <td>829813</td>\n",
              "      <td>Bangalore</td>\n",
              "      <td>2015-05-17</td>\n",
              "      <td>NaN</td>\n",
              "      <td>M.Chinnaswamy Stadium</td>\n",
              "      <td>0</td>\n",
              "      <td>Royal Challengers Bangalore</td>\n",
              "      <td>Delhi Daredevils</td>\n",
              "      <td>Royal Challengers Bangalore</td>\n",
              "      <td>field</td>\n",
              "      <td>NaN</td>\n",
              "      <td>NaN</td>\n",
              "      <td>NaN</td>\n",
              "      <td>NaN</td>\n",
              "      <td>NaN</td>\n",
              "      <td>HDPK Dharmasena</td>\n",
              "      <td>K Srinivasan</td>\n",
              "    </tr>\n",
              "    <tr>\n",
              "      <th>744</th>\n",
              "      <td>1178424</td>\n",
              "      <td>Bengaluru</td>\n",
              "      <td>2019-04-30</td>\n",
              "      <td>NaN</td>\n",
              "      <td>M.Chinnaswamy Stadium</td>\n",
              "      <td>0</td>\n",
              "      <td>Royal Challengers Bangalore</td>\n",
              "      <td>Rajasthan Royals</td>\n",
              "      <td>Rajasthan Royals</td>\n",
              "      <td>field</td>\n",
              "      <td>NaN</td>\n",
              "      <td>NaN</td>\n",
              "      <td>NaN</td>\n",
              "      <td>NaN</td>\n",
              "      <td>NaN</td>\n",
              "      <td>UV Gandhe</td>\n",
              "      <td>NJ Llong</td>\n",
              "    </tr>\n",
              "  </tbody>\n",
              "</table>\n",
              "</div>"
            ],
            "text/plain": [
              "          id       city        date  ... method          umpire1       umpire2\n",
              "241   501265      Delhi  2011-05-21  ...    NaN        SS Hazare     RJ Tucker\n",
              "486   829763  Bangalore  2015-04-29  ...    NaN        JD Cloete     PG Pathak\n",
              "511   829813  Bangalore  2015-05-17  ...    NaN  HDPK Dharmasena  K Srinivasan\n",
              "744  1178424  Bengaluru  2019-04-30  ...    NaN        UV Gandhe      NJ Llong\n",
              "\n",
              "[4 rows x 17 columns]"
            ]
          },
          "metadata": {
            "tags": []
          },
          "execution_count": 31
        }
      ]
    },
    {
      "cell_type": "code",
      "metadata": {
        "id": "RkucXPF492do"
      },
      "source": [
        "matchData.winner.replace(np.nan,'tie', regex=True, inplace=True)"
      ],
      "execution_count": 32,
      "outputs": []
    },
    {
      "cell_type": "code",
      "metadata": {
        "colab": {
          "base_uri": "https://localhost:8080/",
          "height": 312
        },
        "id": "adZFxGGi8bFT",
        "outputId": "859d6a74-464a-4c01-b399-097fd21fe70c"
      },
      "source": [
        "matchData[matchData.result.isna()]"
      ],
      "execution_count": 33,
      "outputs": [
        {
          "output_type": "execute_result",
          "data": {
            "text/html": [
              "<div>\n",
              "<style scoped>\n",
              "    .dataframe tbody tr th:only-of-type {\n",
              "        vertical-align: middle;\n",
              "    }\n",
              "\n",
              "    .dataframe tbody tr th {\n",
              "        vertical-align: top;\n",
              "    }\n",
              "\n",
              "    .dataframe thead th {\n",
              "        text-align: right;\n",
              "    }\n",
              "</style>\n",
              "<table border=\"1\" class=\"dataframe\">\n",
              "  <thead>\n",
              "    <tr style=\"text-align: right;\">\n",
              "      <th></th>\n",
              "      <th>id</th>\n",
              "      <th>city</th>\n",
              "      <th>date</th>\n",
              "      <th>player_of_match</th>\n",
              "      <th>venue</th>\n",
              "      <th>neutral_venue</th>\n",
              "      <th>team1</th>\n",
              "      <th>team2</th>\n",
              "      <th>toss_winner</th>\n",
              "      <th>toss_decision</th>\n",
              "      <th>winner</th>\n",
              "      <th>result</th>\n",
              "      <th>result_margin</th>\n",
              "      <th>eliminator</th>\n",
              "      <th>method</th>\n",
              "      <th>umpire1</th>\n",
              "      <th>umpire2</th>\n",
              "    </tr>\n",
              "  </thead>\n",
              "  <tbody>\n",
              "    <tr>\n",
              "      <th>241</th>\n",
              "      <td>501265</td>\n",
              "      <td>Delhi</td>\n",
              "      <td>2011-05-21</td>\n",
              "      <td>NaN</td>\n",
              "      <td>Feroz Shah Kotla</td>\n",
              "      <td>0</td>\n",
              "      <td>Delhi Daredevils</td>\n",
              "      <td>Pune Warriors</td>\n",
              "      <td>Delhi Daredevils</td>\n",
              "      <td>bat</td>\n",
              "      <td>tie</td>\n",
              "      <td>NaN</td>\n",
              "      <td>NaN</td>\n",
              "      <td>NaN</td>\n",
              "      <td>NaN</td>\n",
              "      <td>SS Hazare</td>\n",
              "      <td>RJ Tucker</td>\n",
              "    </tr>\n",
              "    <tr>\n",
              "      <th>486</th>\n",
              "      <td>829763</td>\n",
              "      <td>Bangalore</td>\n",
              "      <td>2015-04-29</td>\n",
              "      <td>NaN</td>\n",
              "      <td>M.Chinnaswamy Stadium</td>\n",
              "      <td>0</td>\n",
              "      <td>Royal Challengers Bangalore</td>\n",
              "      <td>Rajasthan Royals</td>\n",
              "      <td>Rajasthan Royals</td>\n",
              "      <td>field</td>\n",
              "      <td>tie</td>\n",
              "      <td>NaN</td>\n",
              "      <td>NaN</td>\n",
              "      <td>NaN</td>\n",
              "      <td>NaN</td>\n",
              "      <td>JD Cloete</td>\n",
              "      <td>PG Pathak</td>\n",
              "    </tr>\n",
              "    <tr>\n",
              "      <th>511</th>\n",
              "      <td>829813</td>\n",
              "      <td>Bangalore</td>\n",
              "      <td>2015-05-17</td>\n",
              "      <td>NaN</td>\n",
              "      <td>M.Chinnaswamy Stadium</td>\n",
              "      <td>0</td>\n",
              "      <td>Royal Challengers Bangalore</td>\n",
              "      <td>Delhi Daredevils</td>\n",
              "      <td>Royal Challengers Bangalore</td>\n",
              "      <td>field</td>\n",
              "      <td>tie</td>\n",
              "      <td>NaN</td>\n",
              "      <td>NaN</td>\n",
              "      <td>NaN</td>\n",
              "      <td>NaN</td>\n",
              "      <td>HDPK Dharmasena</td>\n",
              "      <td>K Srinivasan</td>\n",
              "    </tr>\n",
              "    <tr>\n",
              "      <th>744</th>\n",
              "      <td>1178424</td>\n",
              "      <td>Bengaluru</td>\n",
              "      <td>2019-04-30</td>\n",
              "      <td>NaN</td>\n",
              "      <td>M.Chinnaswamy Stadium</td>\n",
              "      <td>0</td>\n",
              "      <td>Royal Challengers Bangalore</td>\n",
              "      <td>Rajasthan Royals</td>\n",
              "      <td>Rajasthan Royals</td>\n",
              "      <td>field</td>\n",
              "      <td>tie</td>\n",
              "      <td>NaN</td>\n",
              "      <td>NaN</td>\n",
              "      <td>NaN</td>\n",
              "      <td>NaN</td>\n",
              "      <td>UV Gandhe</td>\n",
              "      <td>NJ Llong</td>\n",
              "    </tr>\n",
              "  </tbody>\n",
              "</table>\n",
              "</div>"
            ],
            "text/plain": [
              "          id       city        date  ... method          umpire1       umpire2\n",
              "241   501265      Delhi  2011-05-21  ...    NaN        SS Hazare     RJ Tucker\n",
              "486   829763  Bangalore  2015-04-29  ...    NaN        JD Cloete     PG Pathak\n",
              "511   829813  Bangalore  2015-05-17  ...    NaN  HDPK Dharmasena  K Srinivasan\n",
              "744  1178424  Bengaluru  2019-04-30  ...    NaN        UV Gandhe      NJ Llong\n",
              "\n",
              "[4 rows x 17 columns]"
            ]
          },
          "metadata": {
            "tags": []
          },
          "execution_count": 33
        }
      ]
    },
    {
      "cell_type": "code",
      "metadata": {
        "id": "6MWfOO1-89dp"
      },
      "source": [
        "matchData.result.replace(np.nan,'tie', regex=True, inplace=True)"
      ],
      "execution_count": 34,
      "outputs": []
    },
    {
      "cell_type": "code",
      "metadata": {
        "colab": {
          "base_uri": "https://localhost:8080/"
        },
        "id": "KeOVRMb5_Lca",
        "outputId": "3966994f-cedd-47ff-8668-b39055d0d847"
      },
      "source": [
        "matchData.result_margin.isnull().sum()"
      ],
      "execution_count": 35,
      "outputs": [
        {
          "output_type": "execute_result",
          "data": {
            "text/plain": [
              "17"
            ]
          },
          "metadata": {
            "tags": []
          },
          "execution_count": 35
        }
      ]
    },
    {
      "cell_type": "code",
      "metadata": {
        "colab": {
          "base_uri": "https://localhost:8080/",
          "height": 394
        },
        "id": "hjYoZmCD_UIS",
        "outputId": "8cfd7a79-5ae8-462b-b81a-603389445d7b"
      },
      "source": [
        "matchData[matchData.result_margin.isna()].head(5)"
      ],
      "execution_count": 36,
      "outputs": [
        {
          "output_type": "execute_result",
          "data": {
            "text/html": [
              "<div>\n",
              "<style scoped>\n",
              "    .dataframe tbody tr th:only-of-type {\n",
              "        vertical-align: middle;\n",
              "    }\n",
              "\n",
              "    .dataframe tbody tr th {\n",
              "        vertical-align: top;\n",
              "    }\n",
              "\n",
              "    .dataframe thead th {\n",
              "        text-align: right;\n",
              "    }\n",
              "</style>\n",
              "<table border=\"1\" class=\"dataframe\">\n",
              "  <thead>\n",
              "    <tr style=\"text-align: right;\">\n",
              "      <th></th>\n",
              "      <th>id</th>\n",
              "      <th>city</th>\n",
              "      <th>date</th>\n",
              "      <th>player_of_match</th>\n",
              "      <th>venue</th>\n",
              "      <th>neutral_venue</th>\n",
              "      <th>team1</th>\n",
              "      <th>team2</th>\n",
              "      <th>toss_winner</th>\n",
              "      <th>toss_decision</th>\n",
              "      <th>winner</th>\n",
              "      <th>result</th>\n",
              "      <th>result_margin</th>\n",
              "      <th>eliminator</th>\n",
              "      <th>method</th>\n",
              "      <th>umpire1</th>\n",
              "      <th>umpire2</th>\n",
              "    </tr>\n",
              "  </thead>\n",
              "  <tbody>\n",
              "    <tr>\n",
              "      <th>66</th>\n",
              "      <td>392190</td>\n",
              "      <td>Cape Town</td>\n",
              "      <td>2009-04-23</td>\n",
              "      <td>YK Pathan</td>\n",
              "      <td>Newlands</td>\n",
              "      <td>1</td>\n",
              "      <td>Kolkata Knight Riders</td>\n",
              "      <td>Rajasthan Royals</td>\n",
              "      <td>Kolkata Knight Riders</td>\n",
              "      <td>field</td>\n",
              "      <td>Rajasthan Royals</td>\n",
              "      <td>tie</td>\n",
              "      <td>NaN</td>\n",
              "      <td>Y</td>\n",
              "      <td>NaN</td>\n",
              "      <td>MR Benson</td>\n",
              "      <td>M Erasmus</td>\n",
              "    </tr>\n",
              "    <tr>\n",
              "      <th>130</th>\n",
              "      <td>419121</td>\n",
              "      <td>Chennai</td>\n",
              "      <td>2010-03-21</td>\n",
              "      <td>J Theron</td>\n",
              "      <td>MA Chidambaram Stadium, Chepauk</td>\n",
              "      <td>0</td>\n",
              "      <td>Chennai Super Kings</td>\n",
              "      <td>Kings XI Punjab</td>\n",
              "      <td>Chennai Super Kings</td>\n",
              "      <td>field</td>\n",
              "      <td>Kings XI Punjab</td>\n",
              "      <td>tie</td>\n",
              "      <td>NaN</td>\n",
              "      <td>Y</td>\n",
              "      <td>NaN</td>\n",
              "      <td>K Hariharan</td>\n",
              "      <td>DJ Harper</td>\n",
              "    </tr>\n",
              "    <tr>\n",
              "      <th>241</th>\n",
              "      <td>501265</td>\n",
              "      <td>Delhi</td>\n",
              "      <td>2011-05-21</td>\n",
              "      <td>NaN</td>\n",
              "      <td>Feroz Shah Kotla</td>\n",
              "      <td>0</td>\n",
              "      <td>Delhi Daredevils</td>\n",
              "      <td>Pune Warriors</td>\n",
              "      <td>Delhi Daredevils</td>\n",
              "      <td>bat</td>\n",
              "      <td>tie</td>\n",
              "      <td>tie</td>\n",
              "      <td>NaN</td>\n",
              "      <td>NaN</td>\n",
              "      <td>NaN</td>\n",
              "      <td>SS Hazare</td>\n",
              "      <td>RJ Tucker</td>\n",
              "    </tr>\n",
              "    <tr>\n",
              "      <th>328</th>\n",
              "      <td>598004</td>\n",
              "      <td>Hyderabad</td>\n",
              "      <td>2013-04-07</td>\n",
              "      <td>GH Vihari</td>\n",
              "      <td>Rajiv Gandhi International Stadium, Uppal</td>\n",
              "      <td>0</td>\n",
              "      <td>Sunrisers Hyderabad</td>\n",
              "      <td>Royal Challengers Bangalore</td>\n",
              "      <td>Royal Challengers Bangalore</td>\n",
              "      <td>bat</td>\n",
              "      <td>Sunrisers Hyderabad</td>\n",
              "      <td>tie</td>\n",
              "      <td>NaN</td>\n",
              "      <td>Y</td>\n",
              "      <td>NaN</td>\n",
              "      <td>AK Chaudhary</td>\n",
              "      <td>S Ravi</td>\n",
              "    </tr>\n",
              "    <tr>\n",
              "      <th>341</th>\n",
              "      <td>598017</td>\n",
              "      <td>Bangalore</td>\n",
              "      <td>2013-04-16</td>\n",
              "      <td>V Kohli</td>\n",
              "      <td>M.Chinnaswamy Stadium</td>\n",
              "      <td>0</td>\n",
              "      <td>Royal Challengers Bangalore</td>\n",
              "      <td>Delhi Daredevils</td>\n",
              "      <td>Royal Challengers Bangalore</td>\n",
              "      <td>field</td>\n",
              "      <td>Royal Challengers Bangalore</td>\n",
              "      <td>tie</td>\n",
              "      <td>NaN</td>\n",
              "      <td>Y</td>\n",
              "      <td>NaN</td>\n",
              "      <td>M Erasmus</td>\n",
              "      <td>VA Kulkarni</td>\n",
              "    </tr>\n",
              "  </tbody>\n",
              "</table>\n",
              "</div>"
            ],
            "text/plain": [
              "         id       city        date  ... method       umpire1      umpire2\n",
              "66   392190  Cape Town  2009-04-23  ...    NaN     MR Benson    M Erasmus\n",
              "130  419121    Chennai  2010-03-21  ...    NaN   K Hariharan    DJ Harper\n",
              "241  501265      Delhi  2011-05-21  ...    NaN     SS Hazare    RJ Tucker\n",
              "328  598004  Hyderabad  2013-04-07  ...    NaN  AK Chaudhary       S Ravi\n",
              "341  598017  Bangalore  2013-04-16  ...    NaN     M Erasmus  VA Kulkarni\n",
              "\n",
              "[5 rows x 17 columns]"
            ]
          },
          "metadata": {
            "tags": []
          },
          "execution_count": 36
        }
      ]
    },
    {
      "cell_type": "code",
      "metadata": {
        "id": "UUEF7oG-_etW"
      },
      "source": [
        "matchData.result_margin.replace(np.nan,0.0, regex=True, inplace=True)"
      ],
      "execution_count": 37,
      "outputs": []
    },
    {
      "cell_type": "code",
      "metadata": {
        "colab": {
          "base_uri": "https://localhost:8080/"
        },
        "id": "Q8KsCFWDAAXb",
        "outputId": "67ba42c3-70a3-4763-b4b1-d0b9eaed18a8"
      },
      "source": [
        "matchData.isnull().sum()"
      ],
      "execution_count": 38,
      "outputs": [
        {
          "output_type": "execute_result",
          "data": {
            "text/plain": [
              "id                   0\n",
              "city                 0\n",
              "date                 0\n",
              "player_of_match      4\n",
              "venue                0\n",
              "neutral_venue        0\n",
              "team1                0\n",
              "team2                0\n",
              "toss_winner          0\n",
              "toss_decision        0\n",
              "winner               0\n",
              "result               0\n",
              "result_margin        0\n",
              "eliminator           4\n",
              "method             797\n",
              "umpire1              0\n",
              "umpire2              0\n",
              "dtype: int64"
            ]
          },
          "metadata": {
            "tags": []
          },
          "execution_count": 38
        }
      ]
    },
    {
      "cell_type": "code",
      "metadata": {
        "colab": {
          "base_uri": "https://localhost:8080/",
          "height": 312
        },
        "id": "oCVWpVyD_4_u",
        "outputId": "851697b0-32bb-432f-c7e4-ab775b0c996f"
      },
      "source": [
        "matchData[matchData.eliminator.isna()]"
      ],
      "execution_count": 39,
      "outputs": [
        {
          "output_type": "execute_result",
          "data": {
            "text/html": [
              "<div>\n",
              "<style scoped>\n",
              "    .dataframe tbody tr th:only-of-type {\n",
              "        vertical-align: middle;\n",
              "    }\n",
              "\n",
              "    .dataframe tbody tr th {\n",
              "        vertical-align: top;\n",
              "    }\n",
              "\n",
              "    .dataframe thead th {\n",
              "        text-align: right;\n",
              "    }\n",
              "</style>\n",
              "<table border=\"1\" class=\"dataframe\">\n",
              "  <thead>\n",
              "    <tr style=\"text-align: right;\">\n",
              "      <th></th>\n",
              "      <th>id</th>\n",
              "      <th>city</th>\n",
              "      <th>date</th>\n",
              "      <th>player_of_match</th>\n",
              "      <th>venue</th>\n",
              "      <th>neutral_venue</th>\n",
              "      <th>team1</th>\n",
              "      <th>team2</th>\n",
              "      <th>toss_winner</th>\n",
              "      <th>toss_decision</th>\n",
              "      <th>winner</th>\n",
              "      <th>result</th>\n",
              "      <th>result_margin</th>\n",
              "      <th>eliminator</th>\n",
              "      <th>method</th>\n",
              "      <th>umpire1</th>\n",
              "      <th>umpire2</th>\n",
              "    </tr>\n",
              "  </thead>\n",
              "  <tbody>\n",
              "    <tr>\n",
              "      <th>241</th>\n",
              "      <td>501265</td>\n",
              "      <td>Delhi</td>\n",
              "      <td>2011-05-21</td>\n",
              "      <td>NaN</td>\n",
              "      <td>Feroz Shah Kotla</td>\n",
              "      <td>0</td>\n",
              "      <td>Delhi Daredevils</td>\n",
              "      <td>Pune Warriors</td>\n",
              "      <td>Delhi Daredevils</td>\n",
              "      <td>bat</td>\n",
              "      <td>tie</td>\n",
              "      <td>tie</td>\n",
              "      <td>0.0</td>\n",
              "      <td>NaN</td>\n",
              "      <td>NaN</td>\n",
              "      <td>SS Hazare</td>\n",
              "      <td>RJ Tucker</td>\n",
              "    </tr>\n",
              "    <tr>\n",
              "      <th>486</th>\n",
              "      <td>829763</td>\n",
              "      <td>Bangalore</td>\n",
              "      <td>2015-04-29</td>\n",
              "      <td>NaN</td>\n",
              "      <td>M.Chinnaswamy Stadium</td>\n",
              "      <td>0</td>\n",
              "      <td>Royal Challengers Bangalore</td>\n",
              "      <td>Rajasthan Royals</td>\n",
              "      <td>Rajasthan Royals</td>\n",
              "      <td>field</td>\n",
              "      <td>tie</td>\n",
              "      <td>tie</td>\n",
              "      <td>0.0</td>\n",
              "      <td>NaN</td>\n",
              "      <td>NaN</td>\n",
              "      <td>JD Cloete</td>\n",
              "      <td>PG Pathak</td>\n",
              "    </tr>\n",
              "    <tr>\n",
              "      <th>511</th>\n",
              "      <td>829813</td>\n",
              "      <td>Bangalore</td>\n",
              "      <td>2015-05-17</td>\n",
              "      <td>NaN</td>\n",
              "      <td>M.Chinnaswamy Stadium</td>\n",
              "      <td>0</td>\n",
              "      <td>Royal Challengers Bangalore</td>\n",
              "      <td>Delhi Daredevils</td>\n",
              "      <td>Royal Challengers Bangalore</td>\n",
              "      <td>field</td>\n",
              "      <td>tie</td>\n",
              "      <td>tie</td>\n",
              "      <td>0.0</td>\n",
              "      <td>NaN</td>\n",
              "      <td>NaN</td>\n",
              "      <td>HDPK Dharmasena</td>\n",
              "      <td>K Srinivasan</td>\n",
              "    </tr>\n",
              "    <tr>\n",
              "      <th>744</th>\n",
              "      <td>1178424</td>\n",
              "      <td>Bengaluru</td>\n",
              "      <td>2019-04-30</td>\n",
              "      <td>NaN</td>\n",
              "      <td>M.Chinnaswamy Stadium</td>\n",
              "      <td>0</td>\n",
              "      <td>Royal Challengers Bangalore</td>\n",
              "      <td>Rajasthan Royals</td>\n",
              "      <td>Rajasthan Royals</td>\n",
              "      <td>field</td>\n",
              "      <td>tie</td>\n",
              "      <td>tie</td>\n",
              "      <td>0.0</td>\n",
              "      <td>NaN</td>\n",
              "      <td>NaN</td>\n",
              "      <td>UV Gandhe</td>\n",
              "      <td>NJ Llong</td>\n",
              "    </tr>\n",
              "  </tbody>\n",
              "</table>\n",
              "</div>"
            ],
            "text/plain": [
              "          id       city        date  ... method          umpire1       umpire2\n",
              "241   501265      Delhi  2011-05-21  ...    NaN        SS Hazare     RJ Tucker\n",
              "486   829763  Bangalore  2015-04-29  ...    NaN        JD Cloete     PG Pathak\n",
              "511   829813  Bangalore  2015-05-17  ...    NaN  HDPK Dharmasena  K Srinivasan\n",
              "744  1178424  Bengaluru  2019-04-30  ...    NaN        UV Gandhe      NJ Llong\n",
              "\n",
              "[4 rows x 17 columns]"
            ]
          },
          "metadata": {
            "tags": []
          },
          "execution_count": 39
        }
      ]
    },
    {
      "cell_type": "code",
      "metadata": {
        "colab": {
          "base_uri": "https://localhost:8080/"
        },
        "id": "ELs3SmCyAb5J",
        "outputId": "6ea6cf75-e85c-4f16-aff1-b83b134d89d9"
      },
      "source": [
        "matchData.eliminator.unique()"
      ],
      "execution_count": 40,
      "outputs": [
        {
          "output_type": "execute_result",
          "data": {
            "text/plain": [
              "array(['N', 'Y', nan], dtype=object)"
            ]
          },
          "metadata": {
            "tags": []
          },
          "execution_count": 40
        }
      ]
    },
    {
      "cell_type": "code",
      "metadata": {
        "id": "gMv2pu6oBUD6"
      },
      "source": [
        "matchData.eliminator.replace(np.nan, 'N', regex=True, inplace=True)"
      ],
      "execution_count": 41,
      "outputs": []
    },
    {
      "cell_type": "code",
      "metadata": {
        "colab": {
          "base_uri": "https://localhost:8080/",
          "height": 312
        },
        "id": "G-zW0EWXBooU",
        "outputId": "5f08829e-f0b2-44b5-80ef-3a874e91d0f6"
      },
      "source": [
        "matchData[matchData.player_of_match.isna()]"
      ],
      "execution_count": 42,
      "outputs": [
        {
          "output_type": "execute_result",
          "data": {
            "text/html": [
              "<div>\n",
              "<style scoped>\n",
              "    .dataframe tbody tr th:only-of-type {\n",
              "        vertical-align: middle;\n",
              "    }\n",
              "\n",
              "    .dataframe tbody tr th {\n",
              "        vertical-align: top;\n",
              "    }\n",
              "\n",
              "    .dataframe thead th {\n",
              "        text-align: right;\n",
              "    }\n",
              "</style>\n",
              "<table border=\"1\" class=\"dataframe\">\n",
              "  <thead>\n",
              "    <tr style=\"text-align: right;\">\n",
              "      <th></th>\n",
              "      <th>id</th>\n",
              "      <th>city</th>\n",
              "      <th>date</th>\n",
              "      <th>player_of_match</th>\n",
              "      <th>venue</th>\n",
              "      <th>neutral_venue</th>\n",
              "      <th>team1</th>\n",
              "      <th>team2</th>\n",
              "      <th>toss_winner</th>\n",
              "      <th>toss_decision</th>\n",
              "      <th>winner</th>\n",
              "      <th>result</th>\n",
              "      <th>result_margin</th>\n",
              "      <th>eliminator</th>\n",
              "      <th>method</th>\n",
              "      <th>umpire1</th>\n",
              "      <th>umpire2</th>\n",
              "    </tr>\n",
              "  </thead>\n",
              "  <tbody>\n",
              "    <tr>\n",
              "      <th>241</th>\n",
              "      <td>501265</td>\n",
              "      <td>Delhi</td>\n",
              "      <td>2011-05-21</td>\n",
              "      <td>NaN</td>\n",
              "      <td>Feroz Shah Kotla</td>\n",
              "      <td>0</td>\n",
              "      <td>Delhi Daredevils</td>\n",
              "      <td>Pune Warriors</td>\n",
              "      <td>Delhi Daredevils</td>\n",
              "      <td>bat</td>\n",
              "      <td>tie</td>\n",
              "      <td>tie</td>\n",
              "      <td>0.0</td>\n",
              "      <td>N</td>\n",
              "      <td>NaN</td>\n",
              "      <td>SS Hazare</td>\n",
              "      <td>RJ Tucker</td>\n",
              "    </tr>\n",
              "    <tr>\n",
              "      <th>486</th>\n",
              "      <td>829763</td>\n",
              "      <td>Bangalore</td>\n",
              "      <td>2015-04-29</td>\n",
              "      <td>NaN</td>\n",
              "      <td>M.Chinnaswamy Stadium</td>\n",
              "      <td>0</td>\n",
              "      <td>Royal Challengers Bangalore</td>\n",
              "      <td>Rajasthan Royals</td>\n",
              "      <td>Rajasthan Royals</td>\n",
              "      <td>field</td>\n",
              "      <td>tie</td>\n",
              "      <td>tie</td>\n",
              "      <td>0.0</td>\n",
              "      <td>N</td>\n",
              "      <td>NaN</td>\n",
              "      <td>JD Cloete</td>\n",
              "      <td>PG Pathak</td>\n",
              "    </tr>\n",
              "    <tr>\n",
              "      <th>511</th>\n",
              "      <td>829813</td>\n",
              "      <td>Bangalore</td>\n",
              "      <td>2015-05-17</td>\n",
              "      <td>NaN</td>\n",
              "      <td>M.Chinnaswamy Stadium</td>\n",
              "      <td>0</td>\n",
              "      <td>Royal Challengers Bangalore</td>\n",
              "      <td>Delhi Daredevils</td>\n",
              "      <td>Royal Challengers Bangalore</td>\n",
              "      <td>field</td>\n",
              "      <td>tie</td>\n",
              "      <td>tie</td>\n",
              "      <td>0.0</td>\n",
              "      <td>N</td>\n",
              "      <td>NaN</td>\n",
              "      <td>HDPK Dharmasena</td>\n",
              "      <td>K Srinivasan</td>\n",
              "    </tr>\n",
              "    <tr>\n",
              "      <th>744</th>\n",
              "      <td>1178424</td>\n",
              "      <td>Bengaluru</td>\n",
              "      <td>2019-04-30</td>\n",
              "      <td>NaN</td>\n",
              "      <td>M.Chinnaswamy Stadium</td>\n",
              "      <td>0</td>\n",
              "      <td>Royal Challengers Bangalore</td>\n",
              "      <td>Rajasthan Royals</td>\n",
              "      <td>Rajasthan Royals</td>\n",
              "      <td>field</td>\n",
              "      <td>tie</td>\n",
              "      <td>tie</td>\n",
              "      <td>0.0</td>\n",
              "      <td>N</td>\n",
              "      <td>NaN</td>\n",
              "      <td>UV Gandhe</td>\n",
              "      <td>NJ Llong</td>\n",
              "    </tr>\n",
              "  </tbody>\n",
              "</table>\n",
              "</div>"
            ],
            "text/plain": [
              "          id       city        date  ... method          umpire1       umpire2\n",
              "241   501265      Delhi  2011-05-21  ...    NaN        SS Hazare     RJ Tucker\n",
              "486   829763  Bangalore  2015-04-29  ...    NaN        JD Cloete     PG Pathak\n",
              "511   829813  Bangalore  2015-05-17  ...    NaN  HDPK Dharmasena  K Srinivasan\n",
              "744  1178424  Bengaluru  2019-04-30  ...    NaN        UV Gandhe      NJ Llong\n",
              "\n",
              "[4 rows x 17 columns]"
            ]
          },
          "metadata": {
            "tags": []
          },
          "execution_count": 42
        }
      ]
    },
    {
      "cell_type": "code",
      "metadata": {
        "colab": {
          "base_uri": "https://localhost:8080/"
        },
        "id": "kFZJa7vzCJfp",
        "outputId": "018d56fe-2eb4-4da7-d41d-6253a4df52a9"
      },
      "source": [
        "matchData.isnull().sum() / len(matchData)"
      ],
      "execution_count": 43,
      "outputs": [
        {
          "output_type": "execute_result",
          "data": {
            "text/plain": [
              "id                 0.000000\n",
              "city               0.000000\n",
              "date               0.000000\n",
              "player_of_match    0.004902\n",
              "venue              0.000000\n",
              "neutral_venue      0.000000\n",
              "team1              0.000000\n",
              "team2              0.000000\n",
              "toss_winner        0.000000\n",
              "toss_decision      0.000000\n",
              "winner             0.000000\n",
              "result             0.000000\n",
              "result_margin      0.000000\n",
              "eliminator         0.000000\n",
              "method             0.976716\n",
              "umpire1            0.000000\n",
              "umpire2            0.000000\n",
              "dtype: float64"
            ]
          },
          "metadata": {
            "tags": []
          },
          "execution_count": 43
        }
      ]
    },
    {
      "cell_type": "code",
      "metadata": {
        "colab": {
          "base_uri": "https://localhost:8080/",
          "height": 264
        },
        "id": "ygjjiRH_DJHy",
        "outputId": "e749663e-b2f1-478b-8fa9-ceb85676af9f"
      },
      "source": [
        "matchData[matchData.method.notnull()].head(3)"
      ],
      "execution_count": 44,
      "outputs": [
        {
          "output_type": "execute_result",
          "data": {
            "text/html": [
              "<div>\n",
              "<style scoped>\n",
              "    .dataframe tbody tr th:only-of-type {\n",
              "        vertical-align: middle;\n",
              "    }\n",
              "\n",
              "    .dataframe tbody tr th {\n",
              "        vertical-align: top;\n",
              "    }\n",
              "\n",
              "    .dataframe thead th {\n",
              "        text-align: right;\n",
              "    }\n",
              "</style>\n",
              "<table border=\"1\" class=\"dataframe\">\n",
              "  <thead>\n",
              "    <tr style=\"text-align: right;\">\n",
              "      <th></th>\n",
              "      <th>id</th>\n",
              "      <th>city</th>\n",
              "      <th>date</th>\n",
              "      <th>player_of_match</th>\n",
              "      <th>venue</th>\n",
              "      <th>neutral_venue</th>\n",
              "      <th>team1</th>\n",
              "      <th>team2</th>\n",
              "      <th>toss_winner</th>\n",
              "      <th>toss_decision</th>\n",
              "      <th>winner</th>\n",
              "      <th>result</th>\n",
              "      <th>result_margin</th>\n",
              "      <th>eliminator</th>\n",
              "      <th>method</th>\n",
              "      <th>umpire1</th>\n",
              "      <th>umpire2</th>\n",
              "    </tr>\n",
              "  </thead>\n",
              "  <tbody>\n",
              "    <tr>\n",
              "      <th>40</th>\n",
              "      <td>336022</td>\n",
              "      <td>Delhi</td>\n",
              "      <td>2008-05-17</td>\n",
              "      <td>DPMD Jayawardene</td>\n",
              "      <td>Feroz Shah Kotla</td>\n",
              "      <td>0</td>\n",
              "      <td>Delhi Daredevils</td>\n",
              "      <td>Kings XI Punjab</td>\n",
              "      <td>Delhi Daredevils</td>\n",
              "      <td>bat</td>\n",
              "      <td>Kings XI Punjab</td>\n",
              "      <td>runs</td>\n",
              "      <td>6.0</td>\n",
              "      <td>N</td>\n",
              "      <td>D/L</td>\n",
              "      <td>AV Jayaprakash</td>\n",
              "      <td>RE Koertzen</td>\n",
              "    </tr>\n",
              "    <tr>\n",
              "      <th>43</th>\n",
              "      <td>336025</td>\n",
              "      <td>Kolkata</td>\n",
              "      <td>2008-05-18</td>\n",
              "      <td>M Ntini</td>\n",
              "      <td>Eden Gardens</td>\n",
              "      <td>0</td>\n",
              "      <td>Kolkata Knight Riders</td>\n",
              "      <td>Chennai Super Kings</td>\n",
              "      <td>Kolkata Knight Riders</td>\n",
              "      <td>bat</td>\n",
              "      <td>Chennai Super Kings</td>\n",
              "      <td>runs</td>\n",
              "      <td>3.0</td>\n",
              "      <td>N</td>\n",
              "      <td>D/L</td>\n",
              "      <td>Asad Rauf</td>\n",
              "      <td>K Hariharan</td>\n",
              "    </tr>\n",
              "    <tr>\n",
              "      <th>60</th>\n",
              "      <td>392183</td>\n",
              "      <td>Cape Town</td>\n",
              "      <td>2009-04-19</td>\n",
              "      <td>DL Vettori</td>\n",
              "      <td>Newlands</td>\n",
              "      <td>1</td>\n",
              "      <td>Delhi Daredevils</td>\n",
              "      <td>Kings XI Punjab</td>\n",
              "      <td>Delhi Daredevils</td>\n",
              "      <td>field</td>\n",
              "      <td>Delhi Daredevils</td>\n",
              "      <td>wickets</td>\n",
              "      <td>10.0</td>\n",
              "      <td>N</td>\n",
              "      <td>D/L</td>\n",
              "      <td>MR Benson</td>\n",
              "      <td>SD Ranade</td>\n",
              "    </tr>\n",
              "  </tbody>\n",
              "</table>\n",
              "</div>"
            ],
            "text/plain": [
              "        id       city        date  ... method         umpire1      umpire2\n",
              "40  336022      Delhi  2008-05-17  ...    D/L  AV Jayaprakash  RE Koertzen\n",
              "43  336025    Kolkata  2008-05-18  ...    D/L       Asad Rauf  K Hariharan\n",
              "60  392183  Cape Town  2009-04-19  ...    D/L       MR Benson    SD Ranade\n",
              "\n",
              "[3 rows x 17 columns]"
            ]
          },
          "metadata": {
            "tags": []
          },
          "execution_count": 44
        }
      ]
    },
    {
      "cell_type": "code",
      "metadata": {
        "id": "-ZasRp_0DoLy"
      },
      "source": [
        "matchData.method.replace(np.nan, 'Non D/L', regex=True, inplace=True)"
      ],
      "execution_count": 45,
      "outputs": []
    },
    {
      "cell_type": "code",
      "metadata": {
        "id": "OTE6Rr7YETEb"
      },
      "source": [
        "matchData.player_of_match.replace(np.nan, 'None', regex=True, inplace=True)"
      ],
      "execution_count": 46,
      "outputs": []
    },
    {
      "cell_type": "code",
      "metadata": {
        "colab": {
          "base_uri": "https://localhost:8080/"
        },
        "id": "JEyPbiVQEMkb",
        "outputId": "934c8d44-a73e-49ac-fb48-008bb218ed0f"
      },
      "source": [
        "matchData.isnull().sum() / len(matchData)"
      ],
      "execution_count": 47,
      "outputs": [
        {
          "output_type": "execute_result",
          "data": {
            "text/plain": [
              "id                 0.0\n",
              "city               0.0\n",
              "date               0.0\n",
              "player_of_match    0.0\n",
              "venue              0.0\n",
              "neutral_venue      0.0\n",
              "team1              0.0\n",
              "team2              0.0\n",
              "toss_winner        0.0\n",
              "toss_decision      0.0\n",
              "winner             0.0\n",
              "result             0.0\n",
              "result_margin      0.0\n",
              "eliminator         0.0\n",
              "method             0.0\n",
              "umpire1            0.0\n",
              "umpire2            0.0\n",
              "dtype: float64"
            ]
          },
          "metadata": {
            "tags": []
          },
          "execution_count": 47
        }
      ]
    },
    {
      "cell_type": "code",
      "metadata": {
        "id": "sq5DZ2NA8fuQ"
      },
      "source": [
        "bobData.player_dismissed.replace(np.nan,'Not out', regex=True, inplace=True)\n",
        "bobData.fielder.replace(np.nan, 'No fielder', regex=True, inplace=True)"
      ],
      "execution_count": 48,
      "outputs": []
    },
    {
      "cell_type": "code",
      "metadata": {
        "colab": {
          "base_uri": "https://localhost:8080/",
          "height": 377
        },
        "id": "afDXor7QEPD3",
        "outputId": "23922ab5-c2b6-4a14-b7e9-0ce066040c0b"
      },
      "source": [
        "matchData.head()"
      ],
      "execution_count": 49,
      "outputs": [
        {
          "output_type": "execute_result",
          "data": {
            "text/html": [
              "<div>\n",
              "<style scoped>\n",
              "    .dataframe tbody tr th:only-of-type {\n",
              "        vertical-align: middle;\n",
              "    }\n",
              "\n",
              "    .dataframe tbody tr th {\n",
              "        vertical-align: top;\n",
              "    }\n",
              "\n",
              "    .dataframe thead th {\n",
              "        text-align: right;\n",
              "    }\n",
              "</style>\n",
              "<table border=\"1\" class=\"dataframe\">\n",
              "  <thead>\n",
              "    <tr style=\"text-align: right;\">\n",
              "      <th></th>\n",
              "      <th>id</th>\n",
              "      <th>city</th>\n",
              "      <th>date</th>\n",
              "      <th>player_of_match</th>\n",
              "      <th>venue</th>\n",
              "      <th>neutral_venue</th>\n",
              "      <th>team1</th>\n",
              "      <th>team2</th>\n",
              "      <th>toss_winner</th>\n",
              "      <th>toss_decision</th>\n",
              "      <th>winner</th>\n",
              "      <th>result</th>\n",
              "      <th>result_margin</th>\n",
              "      <th>eliminator</th>\n",
              "      <th>method</th>\n",
              "      <th>umpire1</th>\n",
              "      <th>umpire2</th>\n",
              "    </tr>\n",
              "  </thead>\n",
              "  <tbody>\n",
              "    <tr>\n",
              "      <th>0</th>\n",
              "      <td>335982</td>\n",
              "      <td>Bangalore</td>\n",
              "      <td>2008-04-18</td>\n",
              "      <td>BB McCullum</td>\n",
              "      <td>M.Chinnaswamy Stadium</td>\n",
              "      <td>0</td>\n",
              "      <td>Royal Challengers Bangalore</td>\n",
              "      <td>Kolkata Knight Riders</td>\n",
              "      <td>Royal Challengers Bangalore</td>\n",
              "      <td>field</td>\n",
              "      <td>Kolkata Knight Riders</td>\n",
              "      <td>runs</td>\n",
              "      <td>140.0</td>\n",
              "      <td>N</td>\n",
              "      <td>Non D/L</td>\n",
              "      <td>Asad Rauf</td>\n",
              "      <td>RE Koertzen</td>\n",
              "    </tr>\n",
              "    <tr>\n",
              "      <th>1</th>\n",
              "      <td>335983</td>\n",
              "      <td>Chandigarh</td>\n",
              "      <td>2008-04-19</td>\n",
              "      <td>MEK Hussey</td>\n",
              "      <td>Punjab Cricket Association Stadium, Mohali</td>\n",
              "      <td>0</td>\n",
              "      <td>Kings XI Punjab</td>\n",
              "      <td>Chennai Super Kings</td>\n",
              "      <td>Chennai Super Kings</td>\n",
              "      <td>bat</td>\n",
              "      <td>Chennai Super Kings</td>\n",
              "      <td>runs</td>\n",
              "      <td>33.0</td>\n",
              "      <td>N</td>\n",
              "      <td>Non D/L</td>\n",
              "      <td>MR Benson</td>\n",
              "      <td>SL Shastri</td>\n",
              "    </tr>\n",
              "    <tr>\n",
              "      <th>2</th>\n",
              "      <td>335984</td>\n",
              "      <td>Delhi</td>\n",
              "      <td>2008-04-19</td>\n",
              "      <td>MF Maharoof</td>\n",
              "      <td>Feroz Shah Kotla</td>\n",
              "      <td>0</td>\n",
              "      <td>Delhi Daredevils</td>\n",
              "      <td>Rajasthan Royals</td>\n",
              "      <td>Rajasthan Royals</td>\n",
              "      <td>bat</td>\n",
              "      <td>Delhi Daredevils</td>\n",
              "      <td>wickets</td>\n",
              "      <td>9.0</td>\n",
              "      <td>N</td>\n",
              "      <td>Non D/L</td>\n",
              "      <td>Aleem Dar</td>\n",
              "      <td>GA Pratapkumar</td>\n",
              "    </tr>\n",
              "    <tr>\n",
              "      <th>3</th>\n",
              "      <td>335985</td>\n",
              "      <td>Mumbai</td>\n",
              "      <td>2008-04-20</td>\n",
              "      <td>MV Boucher</td>\n",
              "      <td>Wankhede Stadium</td>\n",
              "      <td>0</td>\n",
              "      <td>Mumbai Indians</td>\n",
              "      <td>Royal Challengers Bangalore</td>\n",
              "      <td>Mumbai Indians</td>\n",
              "      <td>bat</td>\n",
              "      <td>Royal Challengers Bangalore</td>\n",
              "      <td>wickets</td>\n",
              "      <td>5.0</td>\n",
              "      <td>N</td>\n",
              "      <td>Non D/L</td>\n",
              "      <td>SJ Davis</td>\n",
              "      <td>DJ Harper</td>\n",
              "    </tr>\n",
              "    <tr>\n",
              "      <th>4</th>\n",
              "      <td>335986</td>\n",
              "      <td>Kolkata</td>\n",
              "      <td>2008-04-20</td>\n",
              "      <td>DJ Hussey</td>\n",
              "      <td>Eden Gardens</td>\n",
              "      <td>0</td>\n",
              "      <td>Kolkata Knight Riders</td>\n",
              "      <td>Deccan Chargers</td>\n",
              "      <td>Deccan Chargers</td>\n",
              "      <td>bat</td>\n",
              "      <td>Kolkata Knight Riders</td>\n",
              "      <td>wickets</td>\n",
              "      <td>5.0</td>\n",
              "      <td>N</td>\n",
              "      <td>Non D/L</td>\n",
              "      <td>BF Bowden</td>\n",
              "      <td>K Hariharan</td>\n",
              "    </tr>\n",
              "  </tbody>\n",
              "</table>\n",
              "</div>"
            ],
            "text/plain": [
              "       id        city        date  ...   method    umpire1         umpire2\n",
              "0  335982   Bangalore  2008-04-18  ...  Non D/L  Asad Rauf     RE Koertzen\n",
              "1  335983  Chandigarh  2008-04-19  ...  Non D/L  MR Benson      SL Shastri\n",
              "2  335984       Delhi  2008-04-19  ...  Non D/L  Aleem Dar  GA Pratapkumar\n",
              "3  335985      Mumbai  2008-04-20  ...  Non D/L   SJ Davis       DJ Harper\n",
              "4  335986     Kolkata  2008-04-20  ...  Non D/L  BF Bowden     K Hariharan\n",
              "\n",
              "[5 rows x 17 columns]"
            ]
          },
          "metadata": {
            "tags": []
          },
          "execution_count": 49
        }
      ]
    },
    {
      "cell_type": "markdown",
      "metadata": {
        "id": "RaFYbnrx3fys"
      },
      "source": [
        "# Total number of matches till 2020"
      ]
    },
    {
      "cell_type": "code",
      "metadata": {
        "id": "CNAAVp3_Lawa"
      },
      "source": [
        "dateSplit = matchData['date'].str.split(\"-\")\n",
        "matchData['season'] = dateSplit.str.get(0)"
      ],
      "execution_count": 50,
      "outputs": []
    },
    {
      "cell_type": "code",
      "metadata": {
        "colab": {
          "base_uri": "https://localhost:8080/",
          "height": 313
        },
        "id": "HJBZV8K71kCD",
        "outputId": "e19581df-1ed6-4644-bce7-3aafaec75b60"
      },
      "source": [
        "match_per_season = matchData.groupby(['season'])['id'].count().reset_index().rename(columns={'id' : 'matches'})\n",
        "match_per_season.style.background_gradient(cmap='PuBu')"
      ],
      "execution_count": 51,
      "outputs": [
        {
          "output_type": "execute_result",
          "data": {
            "text/html": [
              "<style  type=\"text/css\" >\n",
              "#T_95a8dc06_dd64_11eb_9262_0242ac1c0002row0_col1{\n",
              "            background-color:  #f7f0f7;\n",
              "            color:  #000000;\n",
              "        }#T_95a8dc06_dd64_11eb_9262_0242ac1c0002row1_col1{\n",
              "            background-color:  #fff7fb;\n",
              "            color:  #000000;\n",
              "        }#T_95a8dc06_dd64_11eb_9262_0242ac1c0002row2_col1,#T_95a8dc06_dd64_11eb_9262_0242ac1c0002row6_col1,#T_95a8dc06_dd64_11eb_9262_0242ac1c0002row8_col1,#T_95a8dc06_dd64_11eb_9262_0242ac1c0002row10_col1,#T_95a8dc06_dd64_11eb_9262_0242ac1c0002row11_col1,#T_95a8dc06_dd64_11eb_9262_0242ac1c0002row12_col1{\n",
              "            background-color:  #e5e1ef;\n",
              "            color:  #000000;\n",
              "        }#T_95a8dc06_dd64_11eb_9262_0242ac1c0002row3_col1{\n",
              "            background-color:  #046096;\n",
              "            color:  #f1f1f1;\n",
              "        }#T_95a8dc06_dd64_11eb_9262_0242ac1c0002row4_col1{\n",
              "            background-color:  #045483;\n",
              "            color:  #f1f1f1;\n",
              "        }#T_95a8dc06_dd64_11eb_9262_0242ac1c0002row5_col1{\n",
              "            background-color:  #023858;\n",
              "            color:  #f1f1f1;\n",
              "        }#T_95a8dc06_dd64_11eb_9262_0242ac1c0002row7_col1,#T_95a8dc06_dd64_11eb_9262_0242ac1c0002row9_col1{\n",
              "            background-color:  #f0eaf4;\n",
              "            color:  #000000;\n",
              "        }</style><table id=\"T_95a8dc06_dd64_11eb_9262_0242ac1c0002\" ><thead>    <tr>        <th class=\"blank level0\" ></th>        <th class=\"col_heading level0 col0\" >season</th>        <th class=\"col_heading level0 col1\" >matches</th>    </tr></thead><tbody>\n",
              "                <tr>\n",
              "                        <th id=\"T_95a8dc06_dd64_11eb_9262_0242ac1c0002level0_row0\" class=\"row_heading level0 row0\" >0</th>\n",
              "                        <td id=\"T_95a8dc06_dd64_11eb_9262_0242ac1c0002row0_col0\" class=\"data row0 col0\" >2008</td>\n",
              "                        <td id=\"T_95a8dc06_dd64_11eb_9262_0242ac1c0002row0_col1\" class=\"data row0 col1\" >58</td>\n",
              "            </tr>\n",
              "            <tr>\n",
              "                        <th id=\"T_95a8dc06_dd64_11eb_9262_0242ac1c0002level0_row1\" class=\"row_heading level0 row1\" >1</th>\n",
              "                        <td id=\"T_95a8dc06_dd64_11eb_9262_0242ac1c0002row1_col0\" class=\"data row1 col0\" >2009</td>\n",
              "                        <td id=\"T_95a8dc06_dd64_11eb_9262_0242ac1c0002row1_col1\" class=\"data row1 col1\" >57</td>\n",
              "            </tr>\n",
              "            <tr>\n",
              "                        <th id=\"T_95a8dc06_dd64_11eb_9262_0242ac1c0002level0_row2\" class=\"row_heading level0 row2\" >2</th>\n",
              "                        <td id=\"T_95a8dc06_dd64_11eb_9262_0242ac1c0002row2_col0\" class=\"data row2 col0\" >2010</td>\n",
              "                        <td id=\"T_95a8dc06_dd64_11eb_9262_0242ac1c0002row2_col1\" class=\"data row2 col1\" >60</td>\n",
              "            </tr>\n",
              "            <tr>\n",
              "                        <th id=\"T_95a8dc06_dd64_11eb_9262_0242ac1c0002level0_row3\" class=\"row_heading level0 row3\" >3</th>\n",
              "                        <td id=\"T_95a8dc06_dd64_11eb_9262_0242ac1c0002row3_col0\" class=\"data row3 col0\" >2011</td>\n",
              "                        <td id=\"T_95a8dc06_dd64_11eb_9262_0242ac1c0002row3_col1\" class=\"data row3 col1\" >73</td>\n",
              "            </tr>\n",
              "            <tr>\n",
              "                        <th id=\"T_95a8dc06_dd64_11eb_9262_0242ac1c0002level0_row4\" class=\"row_heading level0 row4\" >4</th>\n",
              "                        <td id=\"T_95a8dc06_dd64_11eb_9262_0242ac1c0002row4_col0\" class=\"data row4 col0\" >2012</td>\n",
              "                        <td id=\"T_95a8dc06_dd64_11eb_9262_0242ac1c0002row4_col1\" class=\"data row4 col1\" >74</td>\n",
              "            </tr>\n",
              "            <tr>\n",
              "                        <th id=\"T_95a8dc06_dd64_11eb_9262_0242ac1c0002level0_row5\" class=\"row_heading level0 row5\" >5</th>\n",
              "                        <td id=\"T_95a8dc06_dd64_11eb_9262_0242ac1c0002row5_col0\" class=\"data row5 col0\" >2013</td>\n",
              "                        <td id=\"T_95a8dc06_dd64_11eb_9262_0242ac1c0002row5_col1\" class=\"data row5 col1\" >76</td>\n",
              "            </tr>\n",
              "            <tr>\n",
              "                        <th id=\"T_95a8dc06_dd64_11eb_9262_0242ac1c0002level0_row6\" class=\"row_heading level0 row6\" >6</th>\n",
              "                        <td id=\"T_95a8dc06_dd64_11eb_9262_0242ac1c0002row6_col0\" class=\"data row6 col0\" >2014</td>\n",
              "                        <td id=\"T_95a8dc06_dd64_11eb_9262_0242ac1c0002row6_col1\" class=\"data row6 col1\" >60</td>\n",
              "            </tr>\n",
              "            <tr>\n",
              "                        <th id=\"T_95a8dc06_dd64_11eb_9262_0242ac1c0002level0_row7\" class=\"row_heading level0 row7\" >7</th>\n",
              "                        <td id=\"T_95a8dc06_dd64_11eb_9262_0242ac1c0002row7_col0\" class=\"data row7 col0\" >2015</td>\n",
              "                        <td id=\"T_95a8dc06_dd64_11eb_9262_0242ac1c0002row7_col1\" class=\"data row7 col1\" >59</td>\n",
              "            </tr>\n",
              "            <tr>\n",
              "                        <th id=\"T_95a8dc06_dd64_11eb_9262_0242ac1c0002level0_row8\" class=\"row_heading level0 row8\" >8</th>\n",
              "                        <td id=\"T_95a8dc06_dd64_11eb_9262_0242ac1c0002row8_col0\" class=\"data row8 col0\" >2016</td>\n",
              "                        <td id=\"T_95a8dc06_dd64_11eb_9262_0242ac1c0002row8_col1\" class=\"data row8 col1\" >60</td>\n",
              "            </tr>\n",
              "            <tr>\n",
              "                        <th id=\"T_95a8dc06_dd64_11eb_9262_0242ac1c0002level0_row9\" class=\"row_heading level0 row9\" >9</th>\n",
              "                        <td id=\"T_95a8dc06_dd64_11eb_9262_0242ac1c0002row9_col0\" class=\"data row9 col0\" >2017</td>\n",
              "                        <td id=\"T_95a8dc06_dd64_11eb_9262_0242ac1c0002row9_col1\" class=\"data row9 col1\" >59</td>\n",
              "            </tr>\n",
              "            <tr>\n",
              "                        <th id=\"T_95a8dc06_dd64_11eb_9262_0242ac1c0002level0_row10\" class=\"row_heading level0 row10\" >10</th>\n",
              "                        <td id=\"T_95a8dc06_dd64_11eb_9262_0242ac1c0002row10_col0\" class=\"data row10 col0\" >2018</td>\n",
              "                        <td id=\"T_95a8dc06_dd64_11eb_9262_0242ac1c0002row10_col1\" class=\"data row10 col1\" >60</td>\n",
              "            </tr>\n",
              "            <tr>\n",
              "                        <th id=\"T_95a8dc06_dd64_11eb_9262_0242ac1c0002level0_row11\" class=\"row_heading level0 row11\" >11</th>\n",
              "                        <td id=\"T_95a8dc06_dd64_11eb_9262_0242ac1c0002row11_col0\" class=\"data row11 col0\" >2019</td>\n",
              "                        <td id=\"T_95a8dc06_dd64_11eb_9262_0242ac1c0002row11_col1\" class=\"data row11 col1\" >60</td>\n",
              "            </tr>\n",
              "            <tr>\n",
              "                        <th id=\"T_95a8dc06_dd64_11eb_9262_0242ac1c0002level0_row12\" class=\"row_heading level0 row12\" >12</th>\n",
              "                        <td id=\"T_95a8dc06_dd64_11eb_9262_0242ac1c0002row12_col0\" class=\"data row12 col0\" >2020</td>\n",
              "                        <td id=\"T_95a8dc06_dd64_11eb_9262_0242ac1c0002row12_col1\" class=\"data row12 col1\" >60</td>\n",
              "            </tr>\n",
              "    </tbody></table>"
            ],
            "text/plain": [
              "<pandas.io.formats.style.Styler at 0x7f7dc649f890>"
            ]
          },
          "metadata": {
            "tags": []
          },
          "execution_count": 51
        }
      ]
    },
    {
      "cell_type": "code",
      "metadata": {
        "colab": {
          "base_uri": "https://localhost:8080/",
          "height": 542
        },
        "id": "xcqwxmSMmyej",
        "outputId": "0f3c8ed0-5a8d-4a80-d894-ab66b4b1f43d"
      },
      "source": [
        "colors = ['turquoise', ] * 13\n",
        "colors[5] = 'crimson'\n",
        "\n",
        "fig = px.bar(data_frame=match_per_season, x=match_per_season.season, y=match_per_season.matches, labels=dict(x=\"Season\", y=\"Matches\"))\n",
        "fig.update_layout(title=\"Number of matches played in different seasons\", titlefont={'size' : 26}, template=\"simple_white\")\n",
        "fig.update_traces(marker_line_color=\"black\", marker_line_width=1.5, opacity=1, marker_color=colors)\n",
        "fig.show()"
      ],
      "execution_count": 63,
      "outputs": [
        {
          "output_type": "display_data",
          "data": {
            "text/html": [
              "<html>\n",
              "<head><meta charset=\"utf-8\" /></head>\n",
              "<body>\n",
              "    <div>\n",
              "            <script src=\"https://cdnjs.cloudflare.com/ajax/libs/mathjax/2.7.5/MathJax.js?config=TeX-AMS-MML_SVG\"></script><script type=\"text/javascript\">if (window.MathJax) {MathJax.Hub.Config({SVG: {font: \"STIX-Web\"}});}</script>\n",
              "                <script type=\"text/javascript\">window.PlotlyConfig = {MathJaxConfig: 'local'};</script>\n",
              "        <script src=\"https://cdn.plot.ly/plotly-latest.min.js\"></script>    \n",
              "            <div id=\"2fe6450f-cad2-45bb-a6ad-5ce3acca4d69\" class=\"plotly-graph-div\" style=\"height:525px; width:100%;\"></div>\n",
              "            <script type=\"text/javascript\">\n",
              "                \n",
              "                    window.PLOTLYENV=window.PLOTLYENV || {};\n",
              "                    \n",
              "                if (document.getElementById(\"2fe6450f-cad2-45bb-a6ad-5ce3acca4d69\")) {\n",
              "                    Plotly.newPlot(\n",
              "                        '2fe6450f-cad2-45bb-a6ad-5ce3acca4d69',\n",
              "                        [{\"alignmentgroup\": \"True\", \"hoverlabel\": {\"namelength\": 0}, \"hovertemplate\": \"season=%{x}<br>matches=%{y}\", \"legendgroup\": \"\", \"marker\": {\"color\": [\"turquoise\", \"turquoise\", \"turquoise\", \"turquoise\", \"turquoise\", \"crimson\", \"turquoise\", \"turquoise\", \"turquoise\", \"turquoise\", \"turquoise\", \"turquoise\", \"turquoise\"], \"line\": {\"color\": \"black\", \"width\": 1.5}}, \"name\": \"\", \"offsetgroup\": \"\", \"opacity\": 1, \"orientation\": \"v\", \"showlegend\": false, \"textposition\": \"auto\", \"type\": \"bar\", \"x\": [\"2008\", \"2009\", \"2010\", \"2011\", \"2012\", \"2013\", \"2014\", \"2015\", \"2016\", \"2017\", \"2018\", \"2019\", \"2020\"], \"xaxis\": \"x\", \"y\": [58, 57, 60, 73, 74, 76, 60, 59, 60, 59, 60, 60, 60], \"yaxis\": \"y\"}],\n",
              "                        {\"barmode\": \"relative\", \"legend\": {\"tracegroupgap\": 0}, \"margin\": {\"t\": 60}, \"template\": {\"data\": {\"bar\": [{\"error_x\": {\"color\": \"rgb(36,36,36)\"}, \"error_y\": {\"color\": \"rgb(36,36,36)\"}, \"marker\": {\"line\": {\"color\": \"white\", \"width\": 0.5}}, \"type\": \"bar\"}], \"barpolar\": [{\"marker\": {\"line\": {\"color\": \"white\", \"width\": 0.5}}, \"type\": \"barpolar\"}], \"carpet\": [{\"aaxis\": {\"endlinecolor\": \"rgb(36,36,36)\", \"gridcolor\": \"white\", \"linecolor\": \"white\", \"minorgridcolor\": \"white\", \"startlinecolor\": \"rgb(36,36,36)\"}, \"baxis\": {\"endlinecolor\": \"rgb(36,36,36)\", \"gridcolor\": \"white\", \"linecolor\": \"white\", \"minorgridcolor\": \"white\", \"startlinecolor\": \"rgb(36,36,36)\"}, \"type\": \"carpet\"}], \"choropleth\": [{\"colorbar\": {\"outlinewidth\": 10, \"tickcolor\": \"rgb(36,36,36)\", \"ticklen\": 8, \"ticks\": \"outside\", \"tickwidth\": 2}, \"type\": \"choropleth\"}], \"contour\": [{\"colorbar\": {\"outlinewidth\": 10, \"tickcolor\": \"rgb(36,36,36)\", \"ticklen\": 8, \"ticks\": \"outside\", \"tickwidth\": 2}, \"colorscale\": [[0.0, \"#440154\"], [0.1111111111111111, \"#482878\"], [0.2222222222222222, \"#3e4989\"], [0.3333333333333333, \"#31688e\"], [0.4444444444444444, \"#26828e\"], [0.5555555555555556, \"#1f9e89\"], [0.6666666666666666, \"#35b779\"], [0.7777777777777778, \"#6ece58\"], [0.8888888888888888, \"#b5de2b\"], [1.0, \"#fde725\"]], \"type\": \"contour\"}], \"contourcarpet\": [{\"colorbar\": {\"outlinewidth\": 10, \"tickcolor\": \"rgb(36,36,36)\", \"ticklen\": 8, \"ticks\": \"outside\", \"tickwidth\": 2}, \"type\": \"contourcarpet\"}], \"heatmap\": [{\"colorbar\": {\"outlinewidth\": 10, \"tickcolor\": \"rgb(36,36,36)\", \"ticklen\": 8, \"ticks\": \"outside\", \"tickwidth\": 2}, \"colorscale\": [[0.0, \"#440154\"], [0.1111111111111111, \"#482878\"], [0.2222222222222222, \"#3e4989\"], [0.3333333333333333, \"#31688e\"], [0.4444444444444444, \"#26828e\"], [0.5555555555555556, \"#1f9e89\"], [0.6666666666666666, \"#35b779\"], [0.7777777777777778, \"#6ece58\"], [0.8888888888888888, \"#b5de2b\"], [1.0, \"#fde725\"]], \"type\": \"heatmap\"}], \"heatmapgl\": [{\"colorbar\": {\"outlinewidth\": 10, \"tickcolor\": \"rgb(36,36,36)\", \"ticklen\": 8, \"ticks\": \"outside\", \"tickwidth\": 2}, \"colorscale\": [[0.0, \"#440154\"], [0.1111111111111111, \"#482878\"], [0.2222222222222222, \"#3e4989\"], [0.3333333333333333, \"#31688e\"], [0.4444444444444444, \"#26828e\"], [0.5555555555555556, \"#1f9e89\"], [0.6666666666666666, \"#35b779\"], [0.7777777777777778, \"#6ece58\"], [0.8888888888888888, \"#b5de2b\"], [1.0, \"#fde725\"]], \"type\": \"heatmapgl\"}], \"histogram\": [{\"marker\": {\"line\": {\"color\": \"white\", \"width\": 0.6}}, \"type\": \"histogram\"}], \"histogram2d\": [{\"colorbar\": {\"outlinewidth\": 10, \"tickcolor\": \"rgb(36,36,36)\", \"ticklen\": 8, \"ticks\": \"outside\", \"tickwidth\": 2}, \"colorscale\": [[0.0, \"#440154\"], [0.1111111111111111, \"#482878\"], [0.2222222222222222, \"#3e4989\"], [0.3333333333333333, \"#31688e\"], [0.4444444444444444, \"#26828e\"], [0.5555555555555556, \"#1f9e89\"], [0.6666666666666666, \"#35b779\"], [0.7777777777777778, \"#6ece58\"], [0.8888888888888888, \"#b5de2b\"], [1.0, \"#fde725\"]], \"type\": \"histogram2d\"}], \"histogram2dcontour\": [{\"colorbar\": {\"outlinewidth\": 10, \"tickcolor\": \"rgb(36,36,36)\", \"ticklen\": 8, \"ticks\": \"outside\", \"tickwidth\": 2}, \"colorscale\": [[0.0, \"#440154\"], [0.1111111111111111, \"#482878\"], [0.2222222222222222, \"#3e4989\"], [0.3333333333333333, \"#31688e\"], [0.4444444444444444, \"#26828e\"], [0.5555555555555556, \"#1f9e89\"], [0.6666666666666666, \"#35b779\"], [0.7777777777777778, \"#6ece58\"], [0.8888888888888888, \"#b5de2b\"], [1.0, \"#fde725\"]], \"type\": \"histogram2dcontour\"}], \"mesh3d\": [{\"colorbar\": {\"outlinewidth\": 10, \"tickcolor\": \"rgb(36,36,36)\", \"ticklen\": 8, \"ticks\": \"outside\", \"tickwidth\": 2}, \"type\": \"mesh3d\"}], \"parcoords\": [{\"line\": {\"colorbar\": {\"outlinewidth\": 10, \"tickcolor\": \"rgb(36,36,36)\", \"ticklen\": 8, \"ticks\": \"outside\", \"tickwidth\": 2}}, \"type\": \"parcoords\"}], \"pie\": [{\"automargin\": true, \"type\": \"pie\"}], \"scatter\": [{\"marker\": {\"colorbar\": {\"outlinewidth\": 10, \"tickcolor\": \"rgb(36,36,36)\", \"ticklen\": 8, \"ticks\": \"outside\", \"tickwidth\": 2}}, \"type\": \"scatter\"}], \"scatter3d\": [{\"line\": {\"colorbar\": {\"outlinewidth\": 10, \"tickcolor\": \"rgb(36,36,36)\", \"ticklen\": 8, \"ticks\": \"outside\", \"tickwidth\": 2}}, \"marker\": {\"colorbar\": {\"outlinewidth\": 10, \"tickcolor\": \"rgb(36,36,36)\", \"ticklen\": 8, \"ticks\": \"outside\", \"tickwidth\": 2}}, \"type\": \"scatter3d\"}], \"scattercarpet\": [{\"marker\": {\"colorbar\": {\"outlinewidth\": 10, \"tickcolor\": \"rgb(36,36,36)\", \"ticklen\": 8, \"ticks\": \"outside\", \"tickwidth\": 2}}, \"type\": \"scattercarpet\"}], \"scattergeo\": [{\"marker\": {\"colorbar\": {\"outlinewidth\": 10, \"tickcolor\": \"rgb(36,36,36)\", \"ticklen\": 8, \"ticks\": \"outside\", \"tickwidth\": 2}}, \"type\": \"scattergeo\"}], \"scattergl\": [{\"marker\": {\"colorbar\": {\"outlinewidth\": 10, \"tickcolor\": \"rgb(36,36,36)\", \"ticklen\": 8, \"ticks\": \"outside\", \"tickwidth\": 2}}, \"type\": \"scattergl\"}], \"scattermapbox\": [{\"marker\": {\"colorbar\": {\"outlinewidth\": 10, \"tickcolor\": \"rgb(36,36,36)\", \"ticklen\": 8, \"ticks\": \"outside\", \"tickwidth\": 2}}, \"type\": \"scattermapbox\"}], \"scatterpolar\": [{\"marker\": {\"colorbar\": {\"outlinewidth\": 10, \"tickcolor\": \"rgb(36,36,36)\", \"ticklen\": 8, \"ticks\": \"outside\", \"tickwidth\": 2}}, \"type\": \"scatterpolar\"}], \"scatterpolargl\": [{\"marker\": {\"colorbar\": {\"outlinewidth\": 10, \"tickcolor\": \"rgb(36,36,36)\", \"ticklen\": 8, \"ticks\": \"outside\", \"tickwidth\": 2}}, \"type\": \"scatterpolargl\"}], \"scatterternary\": [{\"marker\": {\"colorbar\": {\"outlinewidth\": 10, \"tickcolor\": \"rgb(36,36,36)\", \"ticklen\": 8, \"ticks\": \"outside\", \"tickwidth\": 2}}, \"type\": \"scatterternary\"}], \"surface\": [{\"colorbar\": {\"outlinewidth\": 10, \"tickcolor\": \"rgb(36,36,36)\", \"ticklen\": 8, \"ticks\": \"outside\", \"tickwidth\": 2}, \"colorscale\": [[0.0, \"#440154\"], [0.1111111111111111, \"#482878\"], [0.2222222222222222, \"#3e4989\"], [0.3333333333333333, \"#31688e\"], [0.4444444444444444, \"#26828e\"], [0.5555555555555556, \"#1f9e89\"], [0.6666666666666666, \"#35b779\"], [0.7777777777777778, \"#6ece58\"], [0.8888888888888888, \"#b5de2b\"], [1.0, \"#fde725\"]], \"type\": \"surface\"}], \"table\": [{\"cells\": {\"fill\": {\"color\": \"rgb(237,237,237)\"}, \"line\": {\"color\": \"white\"}}, \"header\": {\"fill\": {\"color\": \"rgb(217,217,217)\"}, \"line\": {\"color\": \"white\"}}, \"type\": \"table\"}]}, \"layout\": {\"annotationdefaults\": {\"arrowhead\": 0, \"arrowwidth\": 1}, \"coloraxis\": {\"colorbar\": {\"outlinewidth\": 10, \"tickcolor\": \"rgb(36,36,36)\", \"ticklen\": 8, \"ticks\": \"outside\", \"tickwidth\": 2}}, \"colorscale\": {\"diverging\": [[0.0, \"rgb(103,0,31)\"], [0.1, \"rgb(178,24,43)\"], [0.2, \"rgb(214,96,77)\"], [0.3, \"rgb(244,165,130)\"], [0.4, \"rgb(253,219,199)\"], [0.5, \"rgb(247,247,247)\"], [0.6, \"rgb(209,229,240)\"], [0.7, \"rgb(146,197,222)\"], [0.8, \"rgb(67,147,195)\"], [0.9, \"rgb(33,102,172)\"], [1.0, \"rgb(5,48,97)\"]], \"sequential\": [[0.0, \"#440154\"], [0.1111111111111111, \"#482878\"], [0.2222222222222222, \"#3e4989\"], [0.3333333333333333, \"#31688e\"], [0.4444444444444444, \"#26828e\"], [0.5555555555555556, \"#1f9e89\"], [0.6666666666666666, \"#35b779\"], [0.7777777777777778, \"#6ece58\"], [0.8888888888888888, \"#b5de2b\"], [1.0, \"#fde725\"]], \"sequentialminus\": [[0.0, \"#440154\"], [0.1111111111111111, \"#482878\"], [0.2222222222222222, \"#3e4989\"], [0.3333333333333333, \"#31688e\"], [0.4444444444444444, \"#26828e\"], [0.5555555555555556, \"#1f9e89\"], [0.6666666666666666, \"#35b779\"], [0.7777777777777778, \"#6ece58\"], [0.8888888888888888, \"#b5de2b\"], [1.0, \"#fde725\"]]}, \"colorway\": [\"#1F77B4\", \"#FF7F0E\", \"#2CA02C\", \"#D62728\", \"#9467BD\", \"#8C564B\", \"#E377C2\", \"#7F7F7F\", \"#BCBD22\", \"#17BECF\"], \"font\": {\"color\": \"rgb(36,36,36)\"}, \"geo\": {\"bgcolor\": \"white\", \"lakecolor\": \"white\", \"landcolor\": \"white\", \"showlakes\": true, \"showland\": true, \"subunitcolor\": \"white\"}, \"hoverlabel\": {\"align\": \"left\"}, \"hovermode\": \"closest\", \"mapbox\": {\"style\": \"light\"}, \"paper_bgcolor\": \"white\", \"plot_bgcolor\": \"white\", \"polar\": {\"angularaxis\": {\"gridcolor\": \"rgb(232,232,232)\", \"linecolor\": \"rgb(36,36,36)\", \"showgrid\": false, \"showline\": true, \"ticks\": \"outside\"}, \"bgcolor\": \"white\", \"radialaxis\": {\"gridcolor\": \"rgb(232,232,232)\", \"linecolor\": \"rgb(36,36,36)\", \"showgrid\": false, \"showline\": true, \"ticks\": \"outside\"}}, \"scene\": {\"xaxis\": {\"backgroundcolor\": \"white\", \"gridcolor\": \"rgb(232,232,232)\", \"gridwidth\": 2, \"linecolor\": \"rgb(36,36,36)\", \"showbackground\": true, \"showgrid\": false, \"showline\": true, \"ticks\": \"outside\", \"zeroline\": false, \"zerolinecolor\": \"rgb(36,36,36)\"}, \"yaxis\": {\"backgroundcolor\": \"white\", \"gridcolor\": \"rgb(232,232,232)\", \"gridwidth\": 2, \"linecolor\": \"rgb(36,36,36)\", \"showbackground\": true, \"showgrid\": false, \"showline\": true, \"ticks\": \"outside\", \"zeroline\": false, \"zerolinecolor\": \"rgb(36,36,36)\"}, \"zaxis\": {\"backgroundcolor\": \"white\", \"gridcolor\": \"rgb(232,232,232)\", \"gridwidth\": 2, \"linecolor\": \"rgb(36,36,36)\", \"showbackground\": true, \"showgrid\": false, \"showline\": true, \"ticks\": \"outside\", \"zeroline\": false, \"zerolinecolor\": \"rgb(36,36,36)\"}}, \"shapedefaults\": {\"fillcolor\": \"black\", \"line\": {\"width\": 0}, \"opacity\": 0.3}, \"ternary\": {\"aaxis\": {\"gridcolor\": \"rgb(232,232,232)\", \"linecolor\": \"rgb(36,36,36)\", \"showgrid\": false, \"showline\": true, \"ticks\": \"outside\"}, \"baxis\": {\"gridcolor\": \"rgb(232,232,232)\", \"linecolor\": \"rgb(36,36,36)\", \"showgrid\": false, \"showline\": true, \"ticks\": \"outside\"}, \"bgcolor\": \"white\", \"caxis\": {\"gridcolor\": \"rgb(232,232,232)\", \"linecolor\": \"rgb(36,36,36)\", \"showgrid\": false, \"showline\": true, \"ticks\": \"outside\"}}, \"title\": {\"x\": 0.05}, \"xaxis\": {\"automargin\": true, \"gridcolor\": \"rgb(232,232,232)\", \"linecolor\": \"rgb(36,36,36)\", \"showgrid\": false, \"showline\": true, \"ticks\": \"outside\", \"title\": {\"standoff\": 15}, \"zeroline\": false, \"zerolinecolor\": \"rgb(36,36,36)\"}, \"yaxis\": {\"automargin\": true, \"gridcolor\": \"rgb(232,232,232)\", \"linecolor\": \"rgb(36,36,36)\", \"showgrid\": false, \"showline\": true, \"ticks\": \"outside\", \"title\": {\"standoff\": 15}, \"zeroline\": false, \"zerolinecolor\": \"rgb(36,36,36)\"}}}, \"title\": {\"font\": {\"size\": 26}, \"text\": \"Number of matches played in different seasons\"}, \"xaxis\": {\"anchor\": \"y\", \"domain\": [0.0, 1.0], \"title\": {\"text\": \"season\"}}, \"yaxis\": {\"anchor\": \"x\", \"domain\": [0.0, 1.0], \"title\": {\"text\": \"matches\"}}},\n",
              "                        {\"responsive\": true}\n",
              "                    ).then(function(){\n",
              "                            \n",
              "var gd = document.getElementById('2fe6450f-cad2-45bb-a6ad-5ce3acca4d69');\n",
              "var x = new MutationObserver(function (mutations, observer) {{\n",
              "        var display = window.getComputedStyle(gd).display;\n",
              "        if (!display || display === 'none') {{\n",
              "            console.log([gd, 'removed!']);\n",
              "            Plotly.purge(gd);\n",
              "            observer.disconnect();\n",
              "        }}\n",
              "}});\n",
              "\n",
              "// Listen for the removal of the full notebook cells\n",
              "var notebookContainer = gd.closest('#notebook-container');\n",
              "if (notebookContainer) {{\n",
              "    x.observe(notebookContainer, {childList: true});\n",
              "}}\n",
              "\n",
              "// Listen for the clearing of the current output cell\n",
              "var outputEl = gd.closest('.output');\n",
              "if (outputEl) {{\n",
              "    x.observe(outputEl, {childList: true});\n",
              "}}\n",
              "\n",
              "                        })\n",
              "                };\n",
              "                \n",
              "            </script>\n",
              "        </div>\n",
              "</body>\n",
              "</html>"
            ]
          },
          "metadata": {
            "tags": []
          }
        }
      ]
    },
    {
      "cell_type": "markdown",
      "metadata": {
        "id": "KcZ808n-5GdZ"
      },
      "source": [
        "# **Total number of matches Win by Each Teams**"
      ]
    },
    {
      "cell_type": "code",
      "metadata": {
        "id": "bxlqwyLJ6m3r"
      },
      "source": [
        "plt.figure(figsize=(12,7))\n",
        "sns.countplot(y=matchData.winner, order=matchData.winner.value_counts().index)\n",
        "plt.xlabel('Total Matches won by Teams', fontsize=15)\n",
        "plt.ylabel('Teams', fontsize=15)\n",
        "plt.show()"
      ],
      "execution_count": null,
      "outputs": []
    },
    {
      "cell_type": "markdown",
      "metadata": {
        "id": "9XORlCTUS4-X"
      },
      "source": [
        "# **Does toss winning affects the match winner ?**"
      ]
    },
    {
      "cell_type": "code",
      "metadata": {
        "id": "yIvltMigKwl_"
      },
      "source": [
        "teams = list(matchData.toss_winner.value_counts().index)\n",
        "toss_winners = list(matchData.toss_winner.value_counts())\n",
        "match_winners = list(matchData.winner.value_counts())\n",
        "match_winners.pop(len(match_winners)-1)"
      ],
      "execution_count": null,
      "outputs": []
    },
    {
      "cell_type": "code",
      "metadata": {
        "id": "qRjbA2u6UWGw"
      },
      "source": [
        "fig = plt.figure(figsize=(12, 9))\n",
        "\n",
        "ax = fig.add_subplot()\n",
        "\n",
        "n = 1\n",
        "t = 2\n",
        "d = len(teams)\n",
        "w = 0.8\n",
        "x_values1 = [t*element + w*n for element in range(d)] \n",
        "\n",
        "\n",
        "n = 2\n",
        "t = 2\n",
        "d = len(teams)\n",
        "w = 0.8\n",
        "x_values2 = [t*element + w*n for element in range(d)] \n",
        "\n",
        "ax.set_yticks(x_values1)\n",
        "ax.set_yticklabels(teams)\n",
        "plt.barh(x_values1, toss_winners)\n",
        "plt.barh(x_values2, match_winners)\n",
        "plt.show()"
      ],
      "execution_count": null,
      "outputs": []
    },
    {
      "cell_type": "markdown",
      "metadata": {
        "id": "Lh-TqWuDMk7a"
      },
      "source": [
        "# **Do you know who won the most player of the match?**"
      ]
    },
    {
      "cell_type": "code",
      "metadata": {
        "id": "_Iyj47CeM1ja"
      },
      "source": [
        "players = list(matchData.player_of_match.unique())\n",
        "manOfMatchCount = matchData.player_of_match.value_counts()"
      ],
      "execution_count": null,
      "outputs": []
    },
    {
      "cell_type": "code",
      "metadata": {
        "id": "DpR4byHHNWUM"
      },
      "source": [
        "fig = plt.figure(figsize=(12, 7))\n",
        "\n",
        "ax = fig.add_subplot()\n",
        "plt.barh(range(len(players[0:10])), manOfMatchCount[0:10], color='orange')\n",
        "\n",
        "ax.set_yticks(range(10))\n",
        "ax.set_yticklabels(list(matchData.player_of_match.unique())[0:10], fontsize=15)\n",
        "for index, value in enumerate(manOfMatchCount[0:10]):\n",
        "    plt.text(value, index, str(value))\n",
        "plt.xlabel('Total count of Man of Matches', fontsize=20)\n",
        "plt.ylabel('Palyers', fontsize=25)\n",
        "plt.show()"
      ],
      "execution_count": null,
      "outputs": []
    },
    {
      "cell_type": "markdown",
      "metadata": {
        "id": "95BUbnmuijzn"
      },
      "source": [
        "# **Toss/Win Ratio**"
      ]
    },
    {
      "cell_type": "code",
      "metadata": {
        "id": "K-0dREmQ_yjJ"
      },
      "source": [
        "newData = matchData[matchData.winner != 'tie']\n",
        "newData.head(4)"
      ],
      "execution_count": null,
      "outputs": []
    },
    {
      "cell_type": "code",
      "metadata": {
        "id": "a7HyeFGBP4zq"
      },
      "source": [
        "inluence_leader_freq = pd.crosstab(newData.toss_winner, newData.winner)\n",
        "print(pd.DataFrame(inluence_leader_freq)/len(newData))"
      ],
      "execution_count": null,
      "outputs": []
    },
    {
      "cell_type": "markdown",
      "metadata": {
        "id": "0DAQHgGFkzRy"
      },
      "source": [
        "# **Most Titles Wins**"
      ]
    },
    {
      "cell_type": "code",
      "metadata": {
        "id": "TUdXbApnlizx"
      },
      "source": [
        "years = list(matchData.season.unique())\n",
        "finalWinners = []\n",
        "teams = []\n",
        "winnersFrequency = []\n",
        "for year in years:\n",
        "  totalMatches = len(list(matchData[matchData.season==year]['winner']))\n",
        "  finalWinners.append(list(matchData[matchData.season==year]['winner'])[totalMatches - 1])\n",
        "\n",
        "winnersCollection = collections.Counter(finalWinners).most_common()\n",
        "\n",
        "for (key, value) in winnersCollection:\n",
        "  teams.append(key)\n",
        "  winnersFrequency.append(value)"
      ],
      "execution_count": null,
      "outputs": []
    },
    {
      "cell_type": "code",
      "metadata": {
        "id": "2dxdvGJgpfg8"
      },
      "source": [
        "fig = plt.figure(figsize=(12, 9))\n",
        "\n",
        "ax = fig.add_subplot()\n",
        "plt.bar(range(len(teams)), winnersFrequency, color='maroon')\n",
        "\n",
        "ax.set_xticks(range(len(teams)))\n",
        "ax.set_xticklabels(teams, fontsize=15, rotation=40)\n",
        "plt.xlabel('Teams', fontsize=20)\n",
        "plt.ylabel('Number of Titles won by Teams', fontsize=25)\n",
        "plt.show()"
      ],
      "execution_count": null,
      "outputs": []
    },
    {
      "cell_type": "markdown",
      "metadata": {
        "id": "ylaB0VcEutCJ"
      },
      "source": [
        "# **Top 10 Cities by Number Of matches**"
      ]
    },
    {
      "cell_type": "code",
      "metadata": {
        "id": "sq04Vs1fvkfC"
      },
      "source": [
        "topCitiesCount = list(matchData.city.value_counts()[0:10])\n",
        "topCities = list(matchData.city.value_counts()[0:10].index)\n",
        "normalizedCount = []\n",
        "totalMatchesPlayed = sum(topCitiesCount)\n",
        "normalizedCount = [ (matches/totalMatchesPlayed)*100 for matches in topCitiesCount]"
      ],
      "execution_count": null,
      "outputs": []
    },
    {
      "cell_type": "code",
      "metadata": {
        "id": "vC5RPj2pwRRY"
      },
      "source": [
        "plt.figure(figsize=(12,9))\n",
        "plt.pie(normalizedCount, autopct=\"%0.1f%%\")\n",
        "plt.legend(topCities, loc=\"upper left\")\n",
        "plt.show()"
      ],
      "execution_count": null,
      "outputs": []
    },
    {
      "cell_type": "markdown",
      "metadata": {
        "id": "KL_bLM6fzYRG"
      },
      "source": [
        "# **Results Based on Duckworth-Lewis**"
      ]
    },
    {
      "cell_type": "code",
      "metadata": {
        "id": "O6fK0F-kzbUw"
      },
      "source": [
        "plt.figure(figsize=(12,7))\n",
        "sns.countplot(x=matchData.method)\n",
        "plt.xlabel('Method by Matches Won', fontsize=20)\n",
        "plt.ylabel('Total NUmber of Matches', fontsize=20)\n",
        "plt.show()"
      ],
      "execution_count": null,
      "outputs": []
    },
    {
      "cell_type": "code",
      "metadata": {
        "id": "EuSBD0JjzbOC"
      },
      "source": [
        "methodfrequency = matchData.method.value_counts(normalize=True)\n",
        "methods = matchData.method.unique()\n",
        "plt.figure(figsize=(12,9))\n",
        "plt.pie(methodfrequency, autopct=\"%0.1f%%\")\n",
        "plt.legend(methods, loc=\"upper left\")\n",
        "plt.show()"
      ],
      "execution_count": null,
      "outputs": []
    },
    {
      "cell_type": "markdown",
      "metadata": {
        "id": "_TIu4bFw1u0E"
      },
      "source": [
        "# **Top 10 Umpire to feature in max number of matches**"
      ]
    },
    {
      "cell_type": "code",
      "metadata": {
        "id": "eNYrSQZ11xYx"
      },
      "source": [
        "umpiresList1 = list(matchData.umpire1.value_counts().index)\n",
        "umpiresCount1 = list(matchData.umpire1.value_counts())\n",
        "umpiresList2 = list(matchData.umpire2.value_counts().index)\n",
        "umpiresCount2 = list(matchData.umpire2.value_counts())"
      ],
      "execution_count": null,
      "outputs": []
    },
    {
      "cell_type": "code",
      "metadata": {
        "id": "qIe-NreC16LM"
      },
      "source": [
        "umpires = {}\n",
        "for name, match in zip(umpiresList1, umpiresCount1):\n",
        "  umpires[name] = match \n",
        "for name, match in zip(umpiresList2, umpiresCount2):\n",
        "  if name in umpires.keys():\n",
        "    umpires[name] += match\n",
        "  else:\n",
        "    umpires[name] = match "
      ],
      "execution_count": null,
      "outputs": []
    },
    {
      "cell_type": "code",
      "metadata": {
        "id": "u-lZg-viqRyF"
      },
      "source": [
        "sort_umpires = sorted(umpires.items(), key=lambda x: x[1], reverse=True)\n",
        "names = []\n",
        "matches = []\n",
        "for value in sort_umpires:\n",
        "  names.append(value[0])\n",
        "  matches.append(value[1])"
      ],
      "execution_count": null,
      "outputs": []
    },
    {
      "cell_type": "code",
      "metadata": {
        "id": "jjtWXsuuGHHU"
      },
      "source": [
        "fig = plt.figure(figsize=(12, 9))\n",
        "\n",
        "ax = fig.add_subplot()\n",
        "plt.bar(range(10), matches[:10], color='lime')\n",
        "plt.xlabel('Umpires', fontsize=20)\n",
        "plt.ylabel('Matches', fontsize=20)\n",
        "ax.set_xticks(range(10))\n",
        "ax.set_xticklabels(names[:10], rotation=80, fontsize=20)\n",
        "plt.show()"
      ],
      "execution_count": null,
      "outputs": []
    },
    {
      "cell_type": "markdown",
      "metadata": {
        "id": "7HjTy5Zhu6ve"
      },
      "source": [
        "# **Toss Decision**"
      ]
    },
    {
      "cell_type": "code",
      "metadata": {
        "id": "SuggY-vNu-RS"
      },
      "source": [
        "fig = plt.figure(figsize=(12, 9))\n",
        "\n",
        "ax = fig.add_subplot()\n",
        "plt.bar(range(2), list(matchData.toss_decision.value_counts()), color='red')\n",
        "plt.xlabel('Decision', fontsize=20)\n",
        "plt.ylabel('Matches', fontsize=20)\n",
        "ax.set_xticks(range(2))\n",
        "ax.set_xticklabels(list(matchData.toss_decision.value_counts().index), rotation=80, fontsize=20)\n",
        "plt.show()"
      ],
      "execution_count": null,
      "outputs": []
    },
    {
      "cell_type": "code",
      "metadata": {
        "id": "8pYvrRzpu-PL"
      },
      "source": [
        ""
      ],
      "execution_count": null,
      "outputs": []
    },
    {
      "cell_type": "markdown",
      "metadata": {
        "id": "9yDwB8OEtccv"
      },
      "source": [
        "# **Top 10 Playes with Most Runs**"
      ]
    },
    {
      "cell_type": "code",
      "metadata": {
        "id": "P0giVRAfy9Lh"
      },
      "source": [
        "playersRun = bobData.groupby('batsman').batsman_runs.sum().to_dict()\n",
        "sortedRuns = sorted(playersRun.items(), key=lambda x: x[1], reverse=True)"
      ],
      "execution_count": null,
      "outputs": []
    },
    {
      "cell_type": "code",
      "metadata": {
        "id": "l-43mQsc0N-r"
      },
      "source": [
        "players = []\n",
        "runs = []\n",
        "for value in sortedRuns:\n",
        "  players.append(value[0])\n",
        "  runs.append(value[1])"
      ],
      "execution_count": null,
      "outputs": []
    },
    {
      "cell_type": "code",
      "metadata": {
        "id": "AYFno3yX1DvN"
      },
      "source": [
        "fig = plt.figure(figsize=(12, 9))\n",
        "\n",
        "ax = fig.add_subplot()\n",
        "plt.bar(range(10), runs[:10], color='magenta')\n",
        "plt.xlabel('Top 10 Batsman', fontsize=20)\n",
        "plt.ylabel('Run Scored', fontsize=20)\n",
        "ax.set_xticks(range(10))\n",
        "ax.set_xticklabels(players[:10], rotation=40, fontsize=20)\n",
        "plt.show()"
      ],
      "execution_count": null,
      "outputs": []
    },
    {
      "cell_type": "markdown",
      "metadata": {
        "id": "Ezl-zgwo4sCe"
      },
      "source": [
        "# **Top 10 bowlers till 2020**"
      ]
    },
    {
      "cell_type": "code",
      "metadata": {
        "id": "I6jUvP9h4zXY"
      },
      "source": [
        "wicketData = bobData[(bobData.player_dismissed != 'Not out') & (bobData.dismissal_kind != 'run out')]\n",
        "bowlers = list(wicketData.bowler.value_counts().index)\n",
        "wickets = list(wicketData.bowler.value_counts())"
      ],
      "execution_count": null,
      "outputs": []
    },
    {
      "cell_type": "code",
      "metadata": {
        "id": "Q-Ft_PFP8a1m"
      },
      "source": [
        "fig = plt.figure(figsize=(12, 9))\n",
        "\n",
        "ax = fig.add_subplot()\n",
        "plt.plot(range(len(bowlers[:10])), wickets[:10], marker=\"o\")\n",
        "plt.xlabel('Top 10 bowlers', fontsize=20)\n",
        "plt.ylabel('Wickets', fontsize=20)\n",
        "ax.set_xticks(range(10))\n",
        "ax.set_xticklabels(bowlers[:10], rotation=45, fontsize=15)\n",
        "plt.show()"
      ],
      "execution_count": null,
      "outputs": []
    },
    {
      "cell_type": "markdown",
      "metadata": {
        "id": "6BBtLK4tBxgb"
      },
      "source": [
        "# **Top Most Dissmisal Reason**"
      ]
    },
    {
      "cell_type": "code",
      "metadata": {
        "id": "wqkXuPzjBxGp"
      },
      "source": [
        "wicketDecision = bobData[(bobData.player_dismissed != 'Not out')]\n",
        "dismisselType = list(wicketDecision.dismissal_kind.value_counts().index)\n",
        "dismisselCount = list(wicketDecision.dismissal_kind.value_counts())"
      ],
      "execution_count": null,
      "outputs": []
    },
    {
      "cell_type": "code",
      "metadata": {
        "id": "LO9LlNA9C_BJ"
      },
      "source": [
        "fig = plt.figure(figsize=(12, 9))\n",
        "\n",
        "ax = fig.add_subplot()\n",
        "plt.bar(range(len(dismisselType)), dismisselCount, color='red')\n",
        "plt.xlabel('Dismissel Type', fontsize=20)\n",
        "plt.ylabel('Dismissel Count', fontsize=20)\n",
        "ax.set_xticks(range(len(dismisselType)))\n",
        "ax.set_xticklabels((dismisselType), rotation=45, fontsize=10)\n",
        "plt.show()"
      ],
      "execution_count": null,
      "outputs": []
    },
    {
      "cell_type": "markdown",
      "metadata": {
        "id": "uegdAgkfWu3x"
      },
      "source": [
        "# **Top 10 Best Fielders in the Field**"
      ]
    },
    {
      "cell_type": "code",
      "metadata": {
        "id": "eEQ1rlPhWyVg"
      },
      "source": [
        "fieldersData = bobData[(bobData.player_dismissed != 'Not out') & \n",
        "                   (bobData.dismissal_kind != 'bowled') & (bobData.dismissal_kind != 'retired hurt') & (bobData.dismissal_kind != 'hit wicket')\n",
        "                    & (bobData.dismissal_kind != 'obstructing the field') & (bobData.dismissal_kind != 'lbw') & (bobData.fielder != 'No fielder')]\n",
        "fieldersName = list(fieldersData.fielder.value_counts().index)\n",
        "fieldingCount = list(fieldersData.fielder.value_counts())"
      ],
      "execution_count": null,
      "outputs": []
    },
    {
      "cell_type": "code",
      "metadata": {
        "id": "HO-yeZ2FeNbr"
      },
      "source": [
        "fig = plt.figure(figsize=(12, 9))\n",
        "\n",
        "ax = fig.add_subplot()\n",
        "plt.bar(range(len(fieldersName[:10])), fieldingCount[:10], color='cyan')\n",
        "plt.xlabel('Top 10 fielders', fontsize=20)\n",
        "plt.ylabel('Fielding Count', fontsize=20)\n",
        "ax.set_xticks(range(len(fieldersName[:10])))\n",
        "ax.set_xticklabels((fieldersName[0:10]), rotation=45, fontsize=10)\n",
        "plt.show()"
      ],
      "execution_count": null,
      "outputs": []
    },
    {
      "cell_type": "markdown",
      "metadata": {
        "id": "Q6MTXw4WgK-b"
      },
      "source": [
        "# **Season wise match summary of matches won by runs**"
      ]
    },
    {
      "cell_type": "code",
      "metadata": {
        "id": "QU96B9f1gbUf"
      },
      "source": [
        "years = list(matchData.season.unique())\n",
        "resultMargins = []\n",
        "for year in years:\n",
        "  seasonData = matchData[matchData.season == year]\n",
        "  resultMargins.append(list(seasonData.result_margin))"
      ],
      "execution_count": null,
      "outputs": []
    },
    {
      "cell_type": "code",
      "metadata": {
        "id": "OEUv9THlga7E"
      },
      "source": [
        "fig = plt.figure(figsize=(12, 12))\n",
        "\n",
        "ax = fig.add_subplot()\n",
        "plt.xlabel('Season', fontsize=20)\n",
        "plt.ylabel('Result margin', fontsize=20)\n",
        "\n",
        "for xe, ye in zip(years, resultMargins):\n",
        "    plt.scatter([xe] * len(ye), ye)\n",
        "\n",
        "ax.set_xticks(range(len(years)))\n",
        "ax.set_xticklabels(years)\n",
        "plt.show()"
      ],
      "execution_count": null,
      "outputs": []
    },
    {
      "cell_type": "markdown",
      "metadata": {
        "id": "x3BLyQo3r8DS"
      },
      "source": [
        "# **Total number of runs scored across seasons**"
      ]
    },
    {
      "cell_type": "code",
      "metadata": {
        "id": "j5ZDNzgTtT-u",
        "outputId": "75e7ade9-d00d-4052-bece-536859e1de86",
        "colab": {
          "base_uri": "https://localhost:8080/",
          "height": 394
        }
      },
      "source": [
        "season_data = matchData[['id', 'season']].merge(bobData, left_on='id', right_on='id', how='left').drop('id', axis=1)\n",
        "season_data.head()"
      ],
      "execution_count": 69,
      "outputs": [
        {
          "output_type": "execute_result",
          "data": {
            "text/html": [
              "<div>\n",
              "<style scoped>\n",
              "    .dataframe tbody tr th:only-of-type {\n",
              "        vertical-align: middle;\n",
              "    }\n",
              "\n",
              "    .dataframe tbody tr th {\n",
              "        vertical-align: top;\n",
              "    }\n",
              "\n",
              "    .dataframe thead th {\n",
              "        text-align: right;\n",
              "    }\n",
              "</style>\n",
              "<table border=\"1\" class=\"dataframe\">\n",
              "  <thead>\n",
              "    <tr style=\"text-align: right;\">\n",
              "      <th></th>\n",
              "      <th>season</th>\n",
              "      <th>inning</th>\n",
              "      <th>over</th>\n",
              "      <th>ball</th>\n",
              "      <th>batsman</th>\n",
              "      <th>non_striker</th>\n",
              "      <th>bowler</th>\n",
              "      <th>batsman_runs</th>\n",
              "      <th>extra_runs</th>\n",
              "      <th>total_runs</th>\n",
              "      <th>non_boundary</th>\n",
              "      <th>is_wicket</th>\n",
              "      <th>dismissal_kind</th>\n",
              "      <th>player_dismissed</th>\n",
              "      <th>fielder</th>\n",
              "      <th>extras_type</th>\n",
              "      <th>batting_team</th>\n",
              "      <th>bowling_team</th>\n",
              "    </tr>\n",
              "  </thead>\n",
              "  <tbody>\n",
              "    <tr>\n",
              "      <th>0</th>\n",
              "      <td>2008</td>\n",
              "      <td>1</td>\n",
              "      <td>6</td>\n",
              "      <td>5</td>\n",
              "      <td>RT Ponting</td>\n",
              "      <td>BB McCullum</td>\n",
              "      <td>AA Noffke</td>\n",
              "      <td>1</td>\n",
              "      <td>0</td>\n",
              "      <td>1</td>\n",
              "      <td>0</td>\n",
              "      <td>0</td>\n",
              "      <td>NaN</td>\n",
              "      <td>Not out</td>\n",
              "      <td>No fielder</td>\n",
              "      <td>NaN</td>\n",
              "      <td>Kolkata Knight Riders</td>\n",
              "      <td>Royal Challengers Bangalore</td>\n",
              "    </tr>\n",
              "    <tr>\n",
              "      <th>1</th>\n",
              "      <td>2008</td>\n",
              "      <td>1</td>\n",
              "      <td>6</td>\n",
              "      <td>6</td>\n",
              "      <td>BB McCullum</td>\n",
              "      <td>RT Ponting</td>\n",
              "      <td>AA Noffke</td>\n",
              "      <td>1</td>\n",
              "      <td>0</td>\n",
              "      <td>1</td>\n",
              "      <td>0</td>\n",
              "      <td>0</td>\n",
              "      <td>NaN</td>\n",
              "      <td>Not out</td>\n",
              "      <td>No fielder</td>\n",
              "      <td>NaN</td>\n",
              "      <td>Kolkata Knight Riders</td>\n",
              "      <td>Royal Challengers Bangalore</td>\n",
              "    </tr>\n",
              "    <tr>\n",
              "      <th>2</th>\n",
              "      <td>2008</td>\n",
              "      <td>1</td>\n",
              "      <td>7</td>\n",
              "      <td>1</td>\n",
              "      <td>BB McCullum</td>\n",
              "      <td>RT Ponting</td>\n",
              "      <td>Z Khan</td>\n",
              "      <td>0</td>\n",
              "      <td>0</td>\n",
              "      <td>0</td>\n",
              "      <td>0</td>\n",
              "      <td>0</td>\n",
              "      <td>NaN</td>\n",
              "      <td>Not out</td>\n",
              "      <td>No fielder</td>\n",
              "      <td>NaN</td>\n",
              "      <td>Kolkata Knight Riders</td>\n",
              "      <td>Royal Challengers Bangalore</td>\n",
              "    </tr>\n",
              "    <tr>\n",
              "      <th>3</th>\n",
              "      <td>2008</td>\n",
              "      <td>1</td>\n",
              "      <td>7</td>\n",
              "      <td>2</td>\n",
              "      <td>BB McCullum</td>\n",
              "      <td>RT Ponting</td>\n",
              "      <td>Z Khan</td>\n",
              "      <td>1</td>\n",
              "      <td>0</td>\n",
              "      <td>1</td>\n",
              "      <td>0</td>\n",
              "      <td>0</td>\n",
              "      <td>NaN</td>\n",
              "      <td>Not out</td>\n",
              "      <td>No fielder</td>\n",
              "      <td>NaN</td>\n",
              "      <td>Kolkata Knight Riders</td>\n",
              "      <td>Royal Challengers Bangalore</td>\n",
              "    </tr>\n",
              "    <tr>\n",
              "      <th>4</th>\n",
              "      <td>2008</td>\n",
              "      <td>1</td>\n",
              "      <td>7</td>\n",
              "      <td>3</td>\n",
              "      <td>RT Ponting</td>\n",
              "      <td>BB McCullum</td>\n",
              "      <td>Z Khan</td>\n",
              "      <td>1</td>\n",
              "      <td>0</td>\n",
              "      <td>1</td>\n",
              "      <td>0</td>\n",
              "      <td>0</td>\n",
              "      <td>NaN</td>\n",
              "      <td>Not out</td>\n",
              "      <td>No fielder</td>\n",
              "      <td>NaN</td>\n",
              "      <td>Kolkata Knight Riders</td>\n",
              "      <td>Royal Challengers Bangalore</td>\n",
              "    </tr>\n",
              "  </tbody>\n",
              "</table>\n",
              "</div>"
            ],
            "text/plain": [
              "  season  inning  ...           batting_team                 bowling_team\n",
              "0   2008       1  ...  Kolkata Knight Riders  Royal Challengers Bangalore\n",
              "1   2008       1  ...  Kolkata Knight Riders  Royal Challengers Bangalore\n",
              "2   2008       1  ...  Kolkata Knight Riders  Royal Challengers Bangalore\n",
              "3   2008       1  ...  Kolkata Knight Riders  Royal Challengers Bangalore\n",
              "4   2008       1  ...  Kolkata Knight Riders  Royal Challengers Bangalore\n",
              "\n",
              "[5 rows x 18 columns]"
            ]
          },
          "metadata": {
            "tags": []
          },
          "execution_count": 69
        }
      ]
    },
    {
      "cell_type": "code",
      "metadata": {
        "id": "zxarBIQfuKbE"
      },
      "source": [
        "season = season_data.groupby(['season'])['total_runs'].sum().reset_index().set_index('season')"
      ],
      "execution_count": 72,
      "outputs": []
    },
    {
      "cell_type": "code",
      "metadata": {
        "id": "NLOU2u7vuqwn",
        "outputId": "c3a21d44-341b-45a5-8692-e57f027483a9",
        "colab": {
          "base_uri": "https://localhost:8080/",
          "height": 542
        }
      },
      "source": [
        "fig = px.line(season, x=season.index, y='total_runs', labels=dict(x=\"Season\", y=\"Total Runs Scored\"))\n",
        "fig.update_layout(title=\"Total Runs Across the Seasons \",\n",
        "                  titlefont={'size': 26},template='simple_white')\n",
        "fig.show()"
      ],
      "execution_count": 76,
      "outputs": [
        {
          "output_type": "display_data",
          "data": {
            "text/html": [
              "<html>\n",
              "<head><meta charset=\"utf-8\" /></head>\n",
              "<body>\n",
              "    <div>\n",
              "            <script src=\"https://cdnjs.cloudflare.com/ajax/libs/mathjax/2.7.5/MathJax.js?config=TeX-AMS-MML_SVG\"></script><script type=\"text/javascript\">if (window.MathJax) {MathJax.Hub.Config({SVG: {font: \"STIX-Web\"}});}</script>\n",
              "                <script type=\"text/javascript\">window.PlotlyConfig = {MathJaxConfig: 'local'};</script>\n",
              "        <script src=\"https://cdn.plot.ly/plotly-latest.min.js\"></script>    \n",
              "            <div id=\"3ef26f08-20dc-4906-8904-010aa8c437a5\" class=\"plotly-graph-div\" style=\"height:525px; width:100%;\"></div>\n",
              "            <script type=\"text/javascript\">\n",
              "                \n",
              "                    window.PLOTLYENV=window.PLOTLYENV || {};\n",
              "                    \n",
              "                if (document.getElementById(\"3ef26f08-20dc-4906-8904-010aa8c437a5\")) {\n",
              "                    Plotly.newPlot(\n",
              "                        '3ef26f08-20dc-4906-8904-010aa8c437a5',\n",
              "                        [{\"hoverlabel\": {\"namelength\": 0}, \"hovertemplate\": \"Season=%{x}<br>total_runs=%{y}\", \"legendgroup\": \"\", \"line\": {\"color\": \"#636efa\", \"dash\": \"solid\"}, \"mode\": \"lines\", \"name\": \"\", \"showlegend\": false, \"type\": \"scatter\", \"x\": [\"2008\", \"2009\", \"2010\", \"2011\", \"2012\", \"2013\", \"2014\", \"2015\", \"2016\", \"2017\", \"2018\", \"2019\", \"2020\"], \"xaxis\": \"x\", \"y\": [17937, 16320, 18864, 21154, 22453, 22541, 18909, 18332, 18862, 18769, 19901, 19400, 19352], \"yaxis\": \"y\"}],\n",
              "                        {\"legend\": {\"tracegroupgap\": 0}, \"margin\": {\"t\": 60}, \"template\": {\"data\": {\"bar\": [{\"error_x\": {\"color\": \"rgb(36,36,36)\"}, \"error_y\": {\"color\": \"rgb(36,36,36)\"}, \"marker\": {\"line\": {\"color\": \"white\", \"width\": 0.5}}, \"type\": \"bar\"}], \"barpolar\": [{\"marker\": {\"line\": {\"color\": \"white\", \"width\": 0.5}}, \"type\": \"barpolar\"}], \"carpet\": [{\"aaxis\": {\"endlinecolor\": \"rgb(36,36,36)\", \"gridcolor\": \"white\", \"linecolor\": \"white\", \"minorgridcolor\": \"white\", \"startlinecolor\": \"rgb(36,36,36)\"}, \"baxis\": {\"endlinecolor\": \"rgb(36,36,36)\", \"gridcolor\": \"white\", \"linecolor\": \"white\", \"minorgridcolor\": \"white\", \"startlinecolor\": \"rgb(36,36,36)\"}, \"type\": \"carpet\"}], \"choropleth\": [{\"colorbar\": {\"outlinewidth\": 10, \"tickcolor\": \"rgb(36,36,36)\", \"ticklen\": 8, \"ticks\": \"outside\", \"tickwidth\": 2}, \"type\": \"choropleth\"}], \"contour\": [{\"colorbar\": {\"outlinewidth\": 10, \"tickcolor\": \"rgb(36,36,36)\", \"ticklen\": 8, \"ticks\": \"outside\", \"tickwidth\": 2}, \"colorscale\": [[0.0, \"#440154\"], [0.1111111111111111, \"#482878\"], [0.2222222222222222, \"#3e4989\"], [0.3333333333333333, \"#31688e\"], [0.4444444444444444, \"#26828e\"], [0.5555555555555556, \"#1f9e89\"], [0.6666666666666666, \"#35b779\"], [0.7777777777777778, \"#6ece58\"], [0.8888888888888888, \"#b5de2b\"], [1.0, \"#fde725\"]], \"type\": \"contour\"}], \"contourcarpet\": [{\"colorbar\": {\"outlinewidth\": 10, \"tickcolor\": \"rgb(36,36,36)\", \"ticklen\": 8, \"ticks\": \"outside\", \"tickwidth\": 2}, \"type\": \"contourcarpet\"}], \"heatmap\": [{\"colorbar\": {\"outlinewidth\": 10, \"tickcolor\": \"rgb(36,36,36)\", \"ticklen\": 8, \"ticks\": \"outside\", \"tickwidth\": 2}, \"colorscale\": [[0.0, \"#440154\"], [0.1111111111111111, \"#482878\"], [0.2222222222222222, \"#3e4989\"], [0.3333333333333333, \"#31688e\"], [0.4444444444444444, \"#26828e\"], [0.5555555555555556, \"#1f9e89\"], [0.6666666666666666, \"#35b779\"], [0.7777777777777778, \"#6ece58\"], [0.8888888888888888, \"#b5de2b\"], [1.0, \"#fde725\"]], \"type\": \"heatmap\"}], \"heatmapgl\": [{\"colorbar\": {\"outlinewidth\": 10, \"tickcolor\": \"rgb(36,36,36)\", \"ticklen\": 8, \"ticks\": \"outside\", \"tickwidth\": 2}, \"colorscale\": [[0.0, \"#440154\"], [0.1111111111111111, \"#482878\"], [0.2222222222222222, \"#3e4989\"], [0.3333333333333333, \"#31688e\"], [0.4444444444444444, \"#26828e\"], [0.5555555555555556, \"#1f9e89\"], [0.6666666666666666, \"#35b779\"], [0.7777777777777778, \"#6ece58\"], [0.8888888888888888, \"#b5de2b\"], [1.0, \"#fde725\"]], \"type\": \"heatmapgl\"}], \"histogram\": [{\"marker\": {\"line\": {\"color\": \"white\", \"width\": 0.6}}, \"type\": \"histogram\"}], \"histogram2d\": [{\"colorbar\": {\"outlinewidth\": 10, \"tickcolor\": \"rgb(36,36,36)\", \"ticklen\": 8, \"ticks\": \"outside\", \"tickwidth\": 2}, \"colorscale\": [[0.0, \"#440154\"], [0.1111111111111111, \"#482878\"], [0.2222222222222222, \"#3e4989\"], [0.3333333333333333, \"#31688e\"], [0.4444444444444444, \"#26828e\"], [0.5555555555555556, \"#1f9e89\"], [0.6666666666666666, \"#35b779\"], [0.7777777777777778, \"#6ece58\"], [0.8888888888888888, \"#b5de2b\"], [1.0, \"#fde725\"]], \"type\": \"histogram2d\"}], \"histogram2dcontour\": [{\"colorbar\": {\"outlinewidth\": 10, \"tickcolor\": \"rgb(36,36,36)\", \"ticklen\": 8, \"ticks\": \"outside\", \"tickwidth\": 2}, \"colorscale\": [[0.0, \"#440154\"], [0.1111111111111111, \"#482878\"], [0.2222222222222222, \"#3e4989\"], [0.3333333333333333, \"#31688e\"], [0.4444444444444444, \"#26828e\"], [0.5555555555555556, \"#1f9e89\"], [0.6666666666666666, \"#35b779\"], [0.7777777777777778, \"#6ece58\"], [0.8888888888888888, \"#b5de2b\"], [1.0, \"#fde725\"]], \"type\": \"histogram2dcontour\"}], \"mesh3d\": [{\"colorbar\": {\"outlinewidth\": 10, \"tickcolor\": \"rgb(36,36,36)\", \"ticklen\": 8, \"ticks\": \"outside\", \"tickwidth\": 2}, \"type\": \"mesh3d\"}], \"parcoords\": [{\"line\": {\"colorbar\": {\"outlinewidth\": 10, \"tickcolor\": \"rgb(36,36,36)\", \"ticklen\": 8, \"ticks\": \"outside\", \"tickwidth\": 2}}, \"type\": \"parcoords\"}], \"pie\": [{\"automargin\": true, \"type\": \"pie\"}], \"scatter\": [{\"marker\": {\"colorbar\": {\"outlinewidth\": 10, \"tickcolor\": \"rgb(36,36,36)\", \"ticklen\": 8, \"ticks\": \"outside\", \"tickwidth\": 2}}, \"type\": \"scatter\"}], \"scatter3d\": [{\"line\": {\"colorbar\": {\"outlinewidth\": 10, \"tickcolor\": \"rgb(36,36,36)\", \"ticklen\": 8, \"ticks\": \"outside\", \"tickwidth\": 2}}, \"marker\": {\"colorbar\": {\"outlinewidth\": 10, \"tickcolor\": \"rgb(36,36,36)\", \"ticklen\": 8, \"ticks\": \"outside\", \"tickwidth\": 2}}, \"type\": \"scatter3d\"}], \"scattercarpet\": [{\"marker\": {\"colorbar\": {\"outlinewidth\": 10, \"tickcolor\": \"rgb(36,36,36)\", \"ticklen\": 8, \"ticks\": \"outside\", \"tickwidth\": 2}}, \"type\": \"scattercarpet\"}], \"scattergeo\": [{\"marker\": {\"colorbar\": {\"outlinewidth\": 10, \"tickcolor\": \"rgb(36,36,36)\", \"ticklen\": 8, \"ticks\": \"outside\", \"tickwidth\": 2}}, \"type\": \"scattergeo\"}], \"scattergl\": [{\"marker\": {\"colorbar\": {\"outlinewidth\": 10, \"tickcolor\": \"rgb(36,36,36)\", \"ticklen\": 8, \"ticks\": \"outside\", \"tickwidth\": 2}}, \"type\": \"scattergl\"}], \"scattermapbox\": [{\"marker\": {\"colorbar\": {\"outlinewidth\": 10, \"tickcolor\": \"rgb(36,36,36)\", \"ticklen\": 8, \"ticks\": \"outside\", \"tickwidth\": 2}}, \"type\": \"scattermapbox\"}], \"scatterpolar\": [{\"marker\": {\"colorbar\": {\"outlinewidth\": 10, \"tickcolor\": \"rgb(36,36,36)\", \"ticklen\": 8, \"ticks\": \"outside\", \"tickwidth\": 2}}, \"type\": \"scatterpolar\"}], \"scatterpolargl\": [{\"marker\": {\"colorbar\": {\"outlinewidth\": 10, \"tickcolor\": \"rgb(36,36,36)\", \"ticklen\": 8, \"ticks\": \"outside\", \"tickwidth\": 2}}, \"type\": \"scatterpolargl\"}], \"scatterternary\": [{\"marker\": {\"colorbar\": {\"outlinewidth\": 10, \"tickcolor\": \"rgb(36,36,36)\", \"ticklen\": 8, \"ticks\": \"outside\", \"tickwidth\": 2}}, \"type\": \"scatterternary\"}], \"surface\": [{\"colorbar\": {\"outlinewidth\": 10, \"tickcolor\": \"rgb(36,36,36)\", \"ticklen\": 8, \"ticks\": \"outside\", \"tickwidth\": 2}, \"colorscale\": [[0.0, \"#440154\"], [0.1111111111111111, \"#482878\"], [0.2222222222222222, \"#3e4989\"], [0.3333333333333333, \"#31688e\"], [0.4444444444444444, \"#26828e\"], [0.5555555555555556, \"#1f9e89\"], [0.6666666666666666, \"#35b779\"], [0.7777777777777778, \"#6ece58\"], [0.8888888888888888, \"#b5de2b\"], [1.0, \"#fde725\"]], \"type\": \"surface\"}], \"table\": [{\"cells\": {\"fill\": {\"color\": \"rgb(237,237,237)\"}, \"line\": {\"color\": \"white\"}}, \"header\": {\"fill\": {\"color\": \"rgb(217,217,217)\"}, \"line\": {\"color\": \"white\"}}, \"type\": \"table\"}]}, \"layout\": {\"annotationdefaults\": {\"arrowhead\": 0, \"arrowwidth\": 1}, \"coloraxis\": {\"colorbar\": {\"outlinewidth\": 10, \"tickcolor\": \"rgb(36,36,36)\", \"ticklen\": 8, \"ticks\": \"outside\", \"tickwidth\": 2}}, \"colorscale\": {\"diverging\": [[0.0, \"rgb(103,0,31)\"], [0.1, \"rgb(178,24,43)\"], [0.2, \"rgb(214,96,77)\"], [0.3, \"rgb(244,165,130)\"], [0.4, \"rgb(253,219,199)\"], [0.5, \"rgb(247,247,247)\"], [0.6, \"rgb(209,229,240)\"], [0.7, \"rgb(146,197,222)\"], [0.8, \"rgb(67,147,195)\"], [0.9, \"rgb(33,102,172)\"], [1.0, \"rgb(5,48,97)\"]], \"sequential\": [[0.0, \"#440154\"], [0.1111111111111111, \"#482878\"], [0.2222222222222222, \"#3e4989\"], [0.3333333333333333, \"#31688e\"], [0.4444444444444444, \"#26828e\"], [0.5555555555555556, \"#1f9e89\"], [0.6666666666666666, \"#35b779\"], [0.7777777777777778, \"#6ece58\"], [0.8888888888888888, \"#b5de2b\"], [1.0, \"#fde725\"]], \"sequentialminus\": [[0.0, \"#440154\"], [0.1111111111111111, \"#482878\"], [0.2222222222222222, \"#3e4989\"], [0.3333333333333333, \"#31688e\"], [0.4444444444444444, \"#26828e\"], [0.5555555555555556, \"#1f9e89\"], [0.6666666666666666, \"#35b779\"], [0.7777777777777778, \"#6ece58\"], [0.8888888888888888, \"#b5de2b\"], [1.0, \"#fde725\"]]}, \"colorway\": [\"#1F77B4\", \"#FF7F0E\", \"#2CA02C\", \"#D62728\", \"#9467BD\", \"#8C564B\", \"#E377C2\", \"#7F7F7F\", \"#BCBD22\", \"#17BECF\"], \"font\": {\"color\": \"rgb(36,36,36)\"}, \"geo\": {\"bgcolor\": \"white\", \"lakecolor\": \"white\", \"landcolor\": \"white\", \"showlakes\": true, \"showland\": true, \"subunitcolor\": \"white\"}, \"hoverlabel\": {\"align\": \"left\"}, \"hovermode\": \"closest\", \"mapbox\": {\"style\": \"light\"}, \"paper_bgcolor\": \"white\", \"plot_bgcolor\": \"white\", \"polar\": {\"angularaxis\": {\"gridcolor\": \"rgb(232,232,232)\", \"linecolor\": \"rgb(36,36,36)\", \"showgrid\": false, \"showline\": true, \"ticks\": \"outside\"}, \"bgcolor\": \"white\", \"radialaxis\": {\"gridcolor\": \"rgb(232,232,232)\", \"linecolor\": \"rgb(36,36,36)\", \"showgrid\": false, \"showline\": true, \"ticks\": \"outside\"}}, \"scene\": {\"xaxis\": {\"backgroundcolor\": \"white\", \"gridcolor\": \"rgb(232,232,232)\", \"gridwidth\": 2, \"linecolor\": \"rgb(36,36,36)\", \"showbackground\": true, \"showgrid\": false, \"showline\": true, \"ticks\": \"outside\", \"zeroline\": false, \"zerolinecolor\": \"rgb(36,36,36)\"}, \"yaxis\": {\"backgroundcolor\": \"white\", \"gridcolor\": \"rgb(232,232,232)\", \"gridwidth\": 2, \"linecolor\": \"rgb(36,36,36)\", \"showbackground\": true, \"showgrid\": false, \"showline\": true, \"ticks\": \"outside\", \"zeroline\": false, \"zerolinecolor\": \"rgb(36,36,36)\"}, \"zaxis\": {\"backgroundcolor\": \"white\", \"gridcolor\": \"rgb(232,232,232)\", \"gridwidth\": 2, \"linecolor\": \"rgb(36,36,36)\", \"showbackground\": true, \"showgrid\": false, \"showline\": true, \"ticks\": \"outside\", \"zeroline\": false, \"zerolinecolor\": \"rgb(36,36,36)\"}}, \"shapedefaults\": {\"fillcolor\": \"black\", \"line\": {\"width\": 0}, \"opacity\": 0.3}, \"ternary\": {\"aaxis\": {\"gridcolor\": \"rgb(232,232,232)\", \"linecolor\": \"rgb(36,36,36)\", \"showgrid\": false, \"showline\": true, \"ticks\": \"outside\"}, \"baxis\": {\"gridcolor\": \"rgb(232,232,232)\", \"linecolor\": \"rgb(36,36,36)\", \"showgrid\": false, \"showline\": true, \"ticks\": \"outside\"}, \"bgcolor\": \"white\", \"caxis\": {\"gridcolor\": \"rgb(232,232,232)\", \"linecolor\": \"rgb(36,36,36)\", \"showgrid\": false, \"showline\": true, \"ticks\": \"outside\"}}, \"title\": {\"x\": 0.05}, \"xaxis\": {\"automargin\": true, \"gridcolor\": \"rgb(232,232,232)\", \"linecolor\": \"rgb(36,36,36)\", \"showgrid\": false, \"showline\": true, \"ticks\": \"outside\", \"title\": {\"standoff\": 15}, \"zeroline\": false, \"zerolinecolor\": \"rgb(36,36,36)\"}, \"yaxis\": {\"automargin\": true, \"gridcolor\": \"rgb(232,232,232)\", \"linecolor\": \"rgb(36,36,36)\", \"showgrid\": false, \"showline\": true, \"ticks\": \"outside\", \"title\": {\"standoff\": 15}, \"zeroline\": false, \"zerolinecolor\": \"rgb(36,36,36)\"}}}, \"title\": {\"font\": {\"size\": 26}, \"text\": \"Total Runs Across the Seasons \"}, \"xaxis\": {\"anchor\": \"y\", \"domain\": [0.0, 1.0], \"title\": {\"text\": \"Season\"}}, \"yaxis\": {\"anchor\": \"x\", \"domain\": [0.0, 1.0], \"title\": {\"text\": \"total_runs\"}}},\n",
              "                        {\"responsive\": true}\n",
              "                    ).then(function(){\n",
              "                            \n",
              "var gd = document.getElementById('3ef26f08-20dc-4906-8904-010aa8c437a5');\n",
              "var x = new MutationObserver(function (mutations, observer) {{\n",
              "        var display = window.getComputedStyle(gd).display;\n",
              "        if (!display || display === 'none') {{\n",
              "            console.log([gd, 'removed!']);\n",
              "            Plotly.purge(gd);\n",
              "            observer.disconnect();\n",
              "        }}\n",
              "}});\n",
              "\n",
              "// Listen for the removal of the full notebook cells\n",
              "var notebookContainer = gd.closest('#notebook-container');\n",
              "if (notebookContainer) {{\n",
              "    x.observe(notebookContainer, {childList: true});\n",
              "}}\n",
              "\n",
              "// Listen for the clearing of the current output cell\n",
              "var outputEl = gd.closest('.output');\n",
              "if (outputEl) {{\n",
              "    x.observe(outputEl, {childList: true});\n",
              "}}\n",
              "\n",
              "                        })\n",
              "                };\n",
              "                \n",
              "            </script>\n",
              "        </div>\n",
              "</body>\n",
              "</html>"
            ]
          },
          "metadata": {
            "tags": []
          }
        }
      ]
    },
    {
      "cell_type": "code",
      "metadata": {
        "id": "1vO1YtRs8Xk6",
        "colab": {
          "base_uri": "https://localhost:8080/",
          "height": 394
        },
        "outputId": "ccf4fed3-9626-4d9e-8eda-aeeb96aa5182"
      },
      "source": [
        "bobData.head()"
      ],
      "execution_count": 66,
      "outputs": [
        {
          "output_type": "execute_result",
          "data": {
            "text/html": [
              "<div>\n",
              "<style scoped>\n",
              "    .dataframe tbody tr th:only-of-type {\n",
              "        vertical-align: middle;\n",
              "    }\n",
              "\n",
              "    .dataframe tbody tr th {\n",
              "        vertical-align: top;\n",
              "    }\n",
              "\n",
              "    .dataframe thead th {\n",
              "        text-align: right;\n",
              "    }\n",
              "</style>\n",
              "<table border=\"1\" class=\"dataframe\">\n",
              "  <thead>\n",
              "    <tr style=\"text-align: right;\">\n",
              "      <th></th>\n",
              "      <th>id</th>\n",
              "      <th>inning</th>\n",
              "      <th>over</th>\n",
              "      <th>ball</th>\n",
              "      <th>batsman</th>\n",
              "      <th>non_striker</th>\n",
              "      <th>bowler</th>\n",
              "      <th>batsman_runs</th>\n",
              "      <th>extra_runs</th>\n",
              "      <th>total_runs</th>\n",
              "      <th>non_boundary</th>\n",
              "      <th>is_wicket</th>\n",
              "      <th>dismissal_kind</th>\n",
              "      <th>player_dismissed</th>\n",
              "      <th>fielder</th>\n",
              "      <th>extras_type</th>\n",
              "      <th>batting_team</th>\n",
              "      <th>bowling_team</th>\n",
              "    </tr>\n",
              "  </thead>\n",
              "  <tbody>\n",
              "    <tr>\n",
              "      <th>0</th>\n",
              "      <td>335982</td>\n",
              "      <td>1</td>\n",
              "      <td>6</td>\n",
              "      <td>5</td>\n",
              "      <td>RT Ponting</td>\n",
              "      <td>BB McCullum</td>\n",
              "      <td>AA Noffke</td>\n",
              "      <td>1</td>\n",
              "      <td>0</td>\n",
              "      <td>1</td>\n",
              "      <td>0</td>\n",
              "      <td>0</td>\n",
              "      <td>NaN</td>\n",
              "      <td>Not out</td>\n",
              "      <td>No fielder</td>\n",
              "      <td>NaN</td>\n",
              "      <td>Kolkata Knight Riders</td>\n",
              "      <td>Royal Challengers Bangalore</td>\n",
              "    </tr>\n",
              "    <tr>\n",
              "      <th>1</th>\n",
              "      <td>335982</td>\n",
              "      <td>1</td>\n",
              "      <td>6</td>\n",
              "      <td>6</td>\n",
              "      <td>BB McCullum</td>\n",
              "      <td>RT Ponting</td>\n",
              "      <td>AA Noffke</td>\n",
              "      <td>1</td>\n",
              "      <td>0</td>\n",
              "      <td>1</td>\n",
              "      <td>0</td>\n",
              "      <td>0</td>\n",
              "      <td>NaN</td>\n",
              "      <td>Not out</td>\n",
              "      <td>No fielder</td>\n",
              "      <td>NaN</td>\n",
              "      <td>Kolkata Knight Riders</td>\n",
              "      <td>Royal Challengers Bangalore</td>\n",
              "    </tr>\n",
              "    <tr>\n",
              "      <th>2</th>\n",
              "      <td>335982</td>\n",
              "      <td>1</td>\n",
              "      <td>7</td>\n",
              "      <td>1</td>\n",
              "      <td>BB McCullum</td>\n",
              "      <td>RT Ponting</td>\n",
              "      <td>Z Khan</td>\n",
              "      <td>0</td>\n",
              "      <td>0</td>\n",
              "      <td>0</td>\n",
              "      <td>0</td>\n",
              "      <td>0</td>\n",
              "      <td>NaN</td>\n",
              "      <td>Not out</td>\n",
              "      <td>No fielder</td>\n",
              "      <td>NaN</td>\n",
              "      <td>Kolkata Knight Riders</td>\n",
              "      <td>Royal Challengers Bangalore</td>\n",
              "    </tr>\n",
              "    <tr>\n",
              "      <th>3</th>\n",
              "      <td>335982</td>\n",
              "      <td>1</td>\n",
              "      <td>7</td>\n",
              "      <td>2</td>\n",
              "      <td>BB McCullum</td>\n",
              "      <td>RT Ponting</td>\n",
              "      <td>Z Khan</td>\n",
              "      <td>1</td>\n",
              "      <td>0</td>\n",
              "      <td>1</td>\n",
              "      <td>0</td>\n",
              "      <td>0</td>\n",
              "      <td>NaN</td>\n",
              "      <td>Not out</td>\n",
              "      <td>No fielder</td>\n",
              "      <td>NaN</td>\n",
              "      <td>Kolkata Knight Riders</td>\n",
              "      <td>Royal Challengers Bangalore</td>\n",
              "    </tr>\n",
              "    <tr>\n",
              "      <th>4</th>\n",
              "      <td>335982</td>\n",
              "      <td>1</td>\n",
              "      <td>7</td>\n",
              "      <td>3</td>\n",
              "      <td>RT Ponting</td>\n",
              "      <td>BB McCullum</td>\n",
              "      <td>Z Khan</td>\n",
              "      <td>1</td>\n",
              "      <td>0</td>\n",
              "      <td>1</td>\n",
              "      <td>0</td>\n",
              "      <td>0</td>\n",
              "      <td>NaN</td>\n",
              "      <td>Not out</td>\n",
              "      <td>No fielder</td>\n",
              "      <td>NaN</td>\n",
              "      <td>Kolkata Knight Riders</td>\n",
              "      <td>Royal Challengers Bangalore</td>\n",
              "    </tr>\n",
              "  </tbody>\n",
              "</table>\n",
              "</div>"
            ],
            "text/plain": [
              "       id  inning  ...           batting_team                 bowling_team\n",
              "0  335982       1  ...  Kolkata Knight Riders  Royal Challengers Bangalore\n",
              "1  335982       1  ...  Kolkata Knight Riders  Royal Challengers Bangalore\n",
              "2  335982       1  ...  Kolkata Knight Riders  Royal Challengers Bangalore\n",
              "3  335982       1  ...  Kolkata Knight Riders  Royal Challengers Bangalore\n",
              "4  335982       1  ...  Kolkata Knight Riders  Royal Challengers Bangalore\n",
              "\n",
              "[5 rows x 18 columns]"
            ]
          },
          "metadata": {
            "tags": []
          },
          "execution_count": 66
        }
      ]
    },
    {
      "cell_type": "code",
      "metadata": {
        "id": "YoPqJliYtI2M",
        "outputId": "2695d5f3-fc23-4235-b248-5277dfe2fd3a",
        "colab": {
          "base_uri": "https://localhost:8080/",
          "height": 377
        }
      },
      "source": [
        "matchData.head()"
      ],
      "execution_count": 67,
      "outputs": [
        {
          "output_type": "execute_result",
          "data": {
            "text/html": [
              "<div>\n",
              "<style scoped>\n",
              "    .dataframe tbody tr th:only-of-type {\n",
              "        vertical-align: middle;\n",
              "    }\n",
              "\n",
              "    .dataframe tbody tr th {\n",
              "        vertical-align: top;\n",
              "    }\n",
              "\n",
              "    .dataframe thead th {\n",
              "        text-align: right;\n",
              "    }\n",
              "</style>\n",
              "<table border=\"1\" class=\"dataframe\">\n",
              "  <thead>\n",
              "    <tr style=\"text-align: right;\">\n",
              "      <th></th>\n",
              "      <th>id</th>\n",
              "      <th>city</th>\n",
              "      <th>date</th>\n",
              "      <th>player_of_match</th>\n",
              "      <th>venue</th>\n",
              "      <th>neutral_venue</th>\n",
              "      <th>team1</th>\n",
              "      <th>team2</th>\n",
              "      <th>toss_winner</th>\n",
              "      <th>toss_decision</th>\n",
              "      <th>winner</th>\n",
              "      <th>result</th>\n",
              "      <th>result_margin</th>\n",
              "      <th>eliminator</th>\n",
              "      <th>method</th>\n",
              "      <th>umpire1</th>\n",
              "      <th>umpire2</th>\n",
              "      <th>season</th>\n",
              "    </tr>\n",
              "  </thead>\n",
              "  <tbody>\n",
              "    <tr>\n",
              "      <th>0</th>\n",
              "      <td>335982</td>\n",
              "      <td>Bangalore</td>\n",
              "      <td>2008-04-18</td>\n",
              "      <td>BB McCullum</td>\n",
              "      <td>M.Chinnaswamy Stadium</td>\n",
              "      <td>0</td>\n",
              "      <td>Royal Challengers Bangalore</td>\n",
              "      <td>Kolkata Knight Riders</td>\n",
              "      <td>Royal Challengers Bangalore</td>\n",
              "      <td>field</td>\n",
              "      <td>Kolkata Knight Riders</td>\n",
              "      <td>runs</td>\n",
              "      <td>140.0</td>\n",
              "      <td>N</td>\n",
              "      <td>Non D/L</td>\n",
              "      <td>Asad Rauf</td>\n",
              "      <td>RE Koertzen</td>\n",
              "      <td>2008</td>\n",
              "    </tr>\n",
              "    <tr>\n",
              "      <th>1</th>\n",
              "      <td>335983</td>\n",
              "      <td>Chandigarh</td>\n",
              "      <td>2008-04-19</td>\n",
              "      <td>MEK Hussey</td>\n",
              "      <td>Punjab Cricket Association Stadium, Mohali</td>\n",
              "      <td>0</td>\n",
              "      <td>Kings XI Punjab</td>\n",
              "      <td>Chennai Super Kings</td>\n",
              "      <td>Chennai Super Kings</td>\n",
              "      <td>bat</td>\n",
              "      <td>Chennai Super Kings</td>\n",
              "      <td>runs</td>\n",
              "      <td>33.0</td>\n",
              "      <td>N</td>\n",
              "      <td>Non D/L</td>\n",
              "      <td>MR Benson</td>\n",
              "      <td>SL Shastri</td>\n",
              "      <td>2008</td>\n",
              "    </tr>\n",
              "    <tr>\n",
              "      <th>2</th>\n",
              "      <td>335984</td>\n",
              "      <td>Delhi</td>\n",
              "      <td>2008-04-19</td>\n",
              "      <td>MF Maharoof</td>\n",
              "      <td>Feroz Shah Kotla</td>\n",
              "      <td>0</td>\n",
              "      <td>Delhi Daredevils</td>\n",
              "      <td>Rajasthan Royals</td>\n",
              "      <td>Rajasthan Royals</td>\n",
              "      <td>bat</td>\n",
              "      <td>Delhi Daredevils</td>\n",
              "      <td>wickets</td>\n",
              "      <td>9.0</td>\n",
              "      <td>N</td>\n",
              "      <td>Non D/L</td>\n",
              "      <td>Aleem Dar</td>\n",
              "      <td>GA Pratapkumar</td>\n",
              "      <td>2008</td>\n",
              "    </tr>\n",
              "    <tr>\n",
              "      <th>3</th>\n",
              "      <td>335985</td>\n",
              "      <td>Mumbai</td>\n",
              "      <td>2008-04-20</td>\n",
              "      <td>MV Boucher</td>\n",
              "      <td>Wankhede Stadium</td>\n",
              "      <td>0</td>\n",
              "      <td>Mumbai Indians</td>\n",
              "      <td>Royal Challengers Bangalore</td>\n",
              "      <td>Mumbai Indians</td>\n",
              "      <td>bat</td>\n",
              "      <td>Royal Challengers Bangalore</td>\n",
              "      <td>wickets</td>\n",
              "      <td>5.0</td>\n",
              "      <td>N</td>\n",
              "      <td>Non D/L</td>\n",
              "      <td>SJ Davis</td>\n",
              "      <td>DJ Harper</td>\n",
              "      <td>2008</td>\n",
              "    </tr>\n",
              "    <tr>\n",
              "      <th>4</th>\n",
              "      <td>335986</td>\n",
              "      <td>Kolkata</td>\n",
              "      <td>2008-04-20</td>\n",
              "      <td>DJ Hussey</td>\n",
              "      <td>Eden Gardens</td>\n",
              "      <td>0</td>\n",
              "      <td>Kolkata Knight Riders</td>\n",
              "      <td>Deccan Chargers</td>\n",
              "      <td>Deccan Chargers</td>\n",
              "      <td>bat</td>\n",
              "      <td>Kolkata Knight Riders</td>\n",
              "      <td>wickets</td>\n",
              "      <td>5.0</td>\n",
              "      <td>N</td>\n",
              "      <td>Non D/L</td>\n",
              "      <td>BF Bowden</td>\n",
              "      <td>K Hariharan</td>\n",
              "      <td>2008</td>\n",
              "    </tr>\n",
              "  </tbody>\n",
              "</table>\n",
              "</div>"
            ],
            "text/plain": [
              "       id        city        date  ...    umpire1         umpire2  season\n",
              "0  335982   Bangalore  2008-04-18  ...  Asad Rauf     RE Koertzen    2008\n",
              "1  335983  Chandigarh  2008-04-19  ...  MR Benson      SL Shastri    2008\n",
              "2  335984       Delhi  2008-04-19  ...  Aleem Dar  GA Pratapkumar    2008\n",
              "3  335985      Mumbai  2008-04-20  ...   SJ Davis       DJ Harper    2008\n",
              "4  335986     Kolkata  2008-04-20  ...  BF Bowden     K Hariharan    2008\n",
              "\n",
              "[5 rows x 18 columns]"
            ]
          },
          "metadata": {
            "tags": []
          },
          "execution_count": 67
        }
      ]
    },
    {
      "cell_type": "code",
      "metadata": {
        "id": "9alOTnC4tLsc"
      },
      "source": [
        ""
      ],
      "execution_count": null,
      "outputs": []
    }
  ]
}